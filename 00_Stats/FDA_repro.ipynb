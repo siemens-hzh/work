{
 "cells": [
  {
   "cell_type": "code",
   "execution_count": 3,
   "id": "7f3be8f1-6730-4549-9e84-915b67a27496",
   "metadata": {},
   "outputs": [],
   "source": [
    "from scipy.stats import mannwhitneyu\n",
    "import numpy as np\n",
    "import pandas as pd"
   ]
  },
  {
   "cell_type": "code",
   "execution_count": 36,
   "id": "065726c2-3e86-4c7a-8872-b8b5467ce543",
   "metadata": {},
   "outputs": [
    {
     "data": {
      "text/plain": [
       "Index(['FDA-#', 'InstitutionName', 'PatientAge', 'StudyDate',\n",
       "       'ManufacturerModelName', 'MagneticFieldStrength', 'PatientPosition',\n",
       "       'StudyInstanceUID', 'PSA', 'Ethnicity', 'Original PI-RADS',\n",
       "       'GleasonTargetedMax', 'GleasonSystematicMax', 'GT_GGG1', 'GT_GGG2',\n",
       "       'AI_LOS', 'T01', 'T02', 'T03', 'R01_LOS', 'R02_LOS', 'R03_LOS',\n",
       "       'R04_LOS', 'R05_LOS', 'R06_LOS', 'R07_LOS', 'R08_LOS', 'R09_LOS',\n",
       "       'R10_LOS', 'R11_LOS', 'R12_LOS', 'R01_wAI_LOS', 'R02_wAI_LOS',\n",
       "       'R03_wAI_LOS', 'R04_wAI_LOS', 'R05_wAI_LOS', 'R06_wAI_LOS',\n",
       "       'R07_wAI_LOS', 'R08_wAI_LOS', 'R09_wAI_LOS', 'R10_wAI_LOS',\n",
       "       'R11_wAI_LOS', 'R12_wAI_LOS', 'AI', 'T01.1', 'T02.1', 'T03.1',\n",
       "       'R01_pirads', 'R02_pirads', 'R03_pirads', 'R04_pirads', 'R05_pirads',\n",
       "       'R06_pirads', 'R07_pirads', 'R08_pirads', 'R09_pirads', 'R10_pirads',\n",
       "       'R11_pirads', 'R12_pirads', 'R01_wAI_pirads', 'R02_wAI_pirads',\n",
       "       'R03_wAI_pirads', 'R04_wAI_pirads', 'R05_wAI_pirads', 'R06_wAI_pirads',\n",
       "       'R07_wAI_pirads', 'R08_wAI_pirads', 'R09_wAI_pirads', 'R10_wAI_pirads',\n",
       "       'R11_wAI_pirads', 'R12_wAI_pirads', 'T01.2', 'T02.2', 'T03.2',\n",
       "       'Rounded GT_GGG1', 'Rounded GT_GGG2', 'Consensus LoS',\n",
       "       'Consensus PI-RADS', 'GleasonMax', 'Consensus Volume', 'PSAD'],\n",
       "      dtype='object')"
      ]
     },
     "execution_count": 36,
     "metadata": {},
     "output_type": "execute_result"
    }
   ],
   "source": [
    "df = pd.read_excel(r'C:\\Users\\z004b0je\\OneDrive - Siemens Healthineers\\Projects\\01_Prostate MR\\03_FDA_Reader_Study\\FDA_Original_Raw\\Case Overview for CN w distributions 20240216.xlsx')\n",
    "df.head(3)\n",
    "df2 = pd.read_excel(r'C:\\Users\\z004b0je\\OneDrive - Siemens Healthineers\\Projects\\01_Prostate MR\\03_FDA_Reader_Study\\FDA_Original_Raw\\validation\\case_level.xlsx')\n",
    "df2.columns"
   ]
  },
  {
   "cell_type": "markdown",
   "id": "202d6de7-9c3c-41fd-86f2-2a4039c81cc3",
   "metadata": {},
   "source": [
    "# basic statistical analysis"
   ]
  },
  {
   "cell_type": "markdown",
   "id": "ae0d7853-c57a-4d6e-9057-7eacae93ca0f",
   "metadata": {},
   "source": [
    "### Age"
   ]
  },
  {
   "cell_type": "code",
   "execution_count": 13,
   "id": "3f1cff2d-cb18-469a-8409-edf2218c7919",
   "metadata": {},
   "outputs": [],
   "source": [
    "age_1 = df2[df2['InstitutionName']=='SITE_1']['PatientAge'].values\n",
    "age_2 = df2[(df2['InstitutionName']=='SITE_2') | (df2['InstitutionName']=='SITE_3')]['PatientAge'].values\n",
    "age = df2['PatientAge'].values"
   ]
  },
  {
   "cell_type": "code",
   "execution_count": 14,
   "id": "37cfdb12-d2af-4b5e-98be-f9648675b877",
   "metadata": {},
   "outputs": [
    {
     "name": "stdout",
     "output_type": "stream",
     "text": [
      "Median patient age is 65.0, range(44-87)\n",
      "Site_1 median age 63.0, Site_2 median age 66.0\n",
      "Statistics: 10905.5, P-value: 0.00278\n"
     ]
    }
   ],
   "source": [
    "age_median_1 = np.median(age_1)\n",
    "age_median_2 = np.median(age_2)\n",
    "age_median = np.median(age)\n",
    "age_min = np.min(age)\n",
    "age_max = np.max(age)\n",
    "print(f'Median patient age is {age_median}, range({age_min}-{age_max})')\n",
    "print(f'Site_1 median age {age_median_1}, Site_2 median age {age_median_2}')\n",
    "\n",
    "stat, p = mannwhitneyu(age_1,age_2)\n",
    "print(f'Statistics: {stat}, P-value: {round(p,5)}')"
   ]
  },
  {
   "cell_type": "markdown",
   "id": "54220264-8172-4c16-ac11-76845518f180",
   "metadata": {},
   "source": [
    "### PSA"
   ]
  },
  {
   "cell_type": "code",
   "execution_count": 15,
   "id": "c0c2d959-b3f5-473e-9bde-7044033f4d2a",
   "metadata": {},
   "outputs": [],
   "source": [
    "psa_1 = df2[df2['InstitutionName']=='SITE_1']['PSA'].values\n",
    "psa_2 = df2[(df2['InstitutionName']=='SITE_2') | (df2['InstitutionName']=='SITE_3')]['PSA'].values\n",
    "psa = df2['PSA'].values"
   ]
  },
  {
   "cell_type": "code",
   "execution_count": 16,
   "id": "2efd1be9-81a4-424b-ad99-4e418e77f9dd",
   "metadata": {},
   "outputs": [
    {
     "name": "stdout",
     "output_type": "stream",
     "text": [
      "PSA median is 5.7, range(0.6-53.0)\n",
      " Site_1 mean psa 6.8, Site_2 mean psa 6.8\n",
      "Statistics: 14894.0, P-value: 0.11866\n"
     ]
    }
   ],
   "source": [
    "psa_median = np.median(psa)\n",
    "psa_min = np.min(psa)\n",
    "psa_max = np.max(psa)\n",
    "psa_mean_1 = round(np.mean(psa_1),1)\n",
    "psa_mean_2 = round(np.mean(psa_2),1)\n",
    "print(f'PSA median is {psa_median}, range({psa_min}-{psa_max})')\n",
    "print(f' Site_1 mean psa {psa_mean_1}, Site_2 mean psa {psa_mean_2}')\n",
    "\n",
    "stat, p = mannwhitneyu(psa_1,psa_2)\n",
    "print(f'Statistics: {stat}, P-value: {round(p,5)}')"
   ]
  },
  {
   "cell_type": "markdown",
   "id": "c7661a5b-a690-4ed0-8e1c-6586940d2446",
   "metadata": {},
   "source": [
    "### PI-RADS"
   ]
  },
  {
   "cell_type": "code",
   "execution_count": 17,
   "id": "03e722b3-1e76-47da-a187-a34ccd6c6b24",
   "metadata": {},
   "outputs": [],
   "source": [
    "pirads_1 = df2[df2['InstitutionName']=='SITE_1']['Consensus PI-RADS'].values\n",
    "pirads_2 = df2[(df2['InstitutionName']=='SITE_2') | (df2['InstitutionName']=='SITE_3')]['Consensus PI-RADS'].values"
   ]
  },
  {
   "cell_type": "code",
   "execution_count": 18,
   "id": "760314a5-7a9b-4449-8e44-14eb56845d59",
   "metadata": {},
   "outputs": [
    {
     "name": "stdout",
     "output_type": "stream",
     "text": [
      "Statistics: 13251.0, P-value: 0.73711\n"
     ]
    }
   ],
   "source": [
    "stat, p = mannwhitneyu(pirads_1,pirads_2)\n",
    "print(f'Statistics: {stat}, P-value: {round(p,5)}')"
   ]
  },
  {
   "cell_type": "markdown",
   "id": "4d6cb224-96cd-48f3-be24-35245e08b055",
   "metadata": {},
   "source": [
    "### AI LOS"
   ]
  },
  {
   "cell_type": "code",
   "execution_count": 21,
   "id": "76017d18-49b6-4c24-9d50-5dbb975ad80f",
   "metadata": {},
   "outputs": [],
   "source": [
    "ai_los_1 = df2[df2['InstitutionName']=='SITE_1']['AI_LOS'].values\n",
    "ai_los_2 = df2[(df2['InstitutionName']=='SITE_2') | (df2['InstitutionName']=='SITE_3')]['AI_LOS'].values"
   ]
  },
  {
   "cell_type": "code",
   "execution_count": 22,
   "id": "bbc82175-3b96-477c-8f5a-6a82cc4ee30d",
   "metadata": {},
   "outputs": [
    {
     "name": "stdout",
     "output_type": "stream",
     "text": [
      "Statistics: 12431.5, P-value: 0.2104\n"
     ]
    }
   ],
   "source": [
    "stat, p = mannwhitneyu(ai_los_1,ai_los_2)\n",
    "print(f'Statistics: {stat}, P-value: {round(p,5)}')"
   ]
  },
  {
   "cell_type": "markdown",
   "id": "a52ad10c-3471-4f8a-919e-0e7167ea8739",
   "metadata": {},
   "source": [
    "## Performance Validation"
   ]
  },
  {
   "cell_type": "markdown",
   "id": "1a0c5e2e-9d24-4a31-be9e-f649c0458bd8",
   "metadata": {},
   "source": [
    "### Sensitivity and Specificity"
   ]
  },
  {
   "cell_type": "code",
   "execution_count": 52,
   "id": "9bd80775-5c3e-4e57-94a8-81570d11c3a2",
   "metadata": {},
   "outputs": [
    {
     "name": "stdout",
     "output_type": "stream",
     "text": [
      "0.62 0.68 0.67 0.65\n",
      "0.71 0.67 0.77 0.66\n"
     ]
    }
   ],
   "source": [
    "def get_sens_spec(pred, gt, thres):\n",
    "    tp, fp, tn,fn = 0,0,0,0\n",
    "    for idx in range(len(pred)):\n",
    "        if pred[idx] >= thres:\n",
    "            if gt[idx] >= thres:\n",
    "                tp += 1\n",
    "            else:\n",
    "                fp += 1\n",
    "        else:\n",
    "            if gt[idx] >= thres:\n",
    "                fn += 1\n",
    "            else:\n",
    "                tn += 1\n",
    "    sens = round(tp / (tp + fn), 3)\n",
    "    spec = round(tn / (tn + fp), 3)\n",
    "    return sens, spec\n",
    "\n",
    "reader_info = dict()\n",
    "reader_info_cols = ['modality','reader', 'Sensitivity', 'Specificity']\n",
    "for col in reader_info_cols:\n",
    "    reader_info.setdefault(col, [])\n",
    "\n",
    "def get_sens_spec2(pred, gt, thres):\n",
    "    tp, fp, tn,fn = 0,0,0,0\n",
    "    for idx in range(len(pred)):\n",
    "        if pred[idx] >= thres:\n",
    "            if gt[idx] == 1:\n",
    "                tp += 1\n",
    "            else:\n",
    "                fp += 1\n",
    "        else:\n",
    "            if gt[idx] == 1:\n",
    "                fn += 1\n",
    "            else:\n",
    "                tn += 1\n",
    "    sens = round(tp / (tp + fn), 3)\n",
    "    spec = round(tn / (tn + fp), 3)\n",
    "    return sens, spec\n",
    "\n",
    "reader_info = dict()\n",
    "reader_info_cols = ['modality','reader', 'Sensitivity', 'Specificity']\n",
    "for col in reader_info_cols:\n",
    "    reader_info.setdefault(col, [])\n",
    "\n",
    "for modality in ['ind','wAI']:\n",
    "    for idx in range(1,13):\n",
    "        if len(str(idx)) == 1:\n",
    "            reader = f'0{idx}'\n",
    "        if modality == 'ind':\n",
    "            reader_col = f'R{reader}_LOS'\n",
    "        else:\n",
    "            reader_col = f'R{reader}_wAI_pirads'\n",
    "        if idx < 7:\n",
    "            reader_result = df2.iloc[:170][reader_col].values\n",
    "            gt_result = df2.iloc[:170]['Rounded GT_GGG1'].values\n",
    "        else:\n",
    "            reader_result = df2.iloc[170:][reader_col].values\n",
    "            gt_result = df2.iloc[170:]['Rounded GT_GGG1'].values\n",
    "        sens, spec = get_sens_spec2(reader_result, gt_result, 3)\n",
    "        reader_info['modality'].append(modality)\n",
    "        reader_info['reader'].append(reader_col)\n",
    "        reader_info['Sensitivity'].append(sens)\n",
    "        reader_info['Specificity'].append(spec)\n",
    "result_df = pd.DataFrame(reader_info)        \n",
    "ind_sens_result = result_df[result_df['modality'] == 'ind']['Sensitivity'].values\n",
    "ind_spec_result = result_df[result_df['modality'] == 'ind']['Specificity'].values\n",
    "wAI_sens_result = result_df[result_df['modality'] == 'wAI']['Sensitivity'].values\n",
    "wAI_spec_result = result_df[result_df['modality'] == 'wAI']['Specificity'].values\n",
    "ind_sens_mean = round(np.mean(ind_sens_result),2)\n",
    "ind_spec_mean = round(np.mean(ind_spec_result),2)\n",
    "wAI_sens_mean = round(np.mean(wAI_sens_result),2)\n",
    "wAI_spec_mean = round(np.mean(wAI_spec_result),2)\n",
    "print(ind_sens_mean,  ind_spec_mean, wAI_sens_mean, wAI_spec_mean)\n",
    "\n",
    "\n",
    "for modality in ['ind','wAI']:\n",
    "    for idx in range(1,13):\n",
    "        if len(str(idx)) == 1:\n",
    "            reader = f'0{idx}'\n",
    "        if modality == 'ind':\n",
    "            reader_col = f'R{reader}_pirads'\n",
    "        else:\n",
    "            reader_col = f'R{reader}_wAI_pirads'\n",
    "        if idx < 7:\n",
    "            reader_result = df2.iloc[:170][reader_col].values\n",
    "            gt_result = df2.iloc[:170]['Consensus PI-RADS'].values\n",
    "        else:\n",
    "            reader_result = df2.iloc[170:][reader_col].values\n",
    "            gt_result = df2.iloc[170:]['Consensus PI-RADS'].values\n",
    "        sens, spec = get_sens_spec(reader_result, gt_result, 3)\n",
    "        reader_info['modality'].append(modality)\n",
    "        reader_info['reader'].append(reader_col)\n",
    "        reader_info['Sensitivity'].append(sens)\n",
    "        reader_info['Specificity'].append(spec)\n",
    "result_df = pd.DataFrame(reader_info)        \n",
    "ind_sens_result = result_df[result_df['modality'] == 'ind']['Sensitivity'].values\n",
    "ind_spec_result = result_df[result_df['modality'] == 'ind']['Specificity'].values\n",
    "wAI_sens_result = result_df[result_df['modality'] == 'wAI']['Sensitivity'].values\n",
    "wAI_spec_result = result_df[result_df['modality'] == 'wAI']['Specificity'].values\n",
    "ind_sens_mean = round(np.mean(ind_sens_result),2)\n",
    "ind_spec_mean = round(np.mean(ind_spec_result),2)\n",
    "wAI_sens_mean = round(np.mean(wAI_sens_result),2)\n",
    "wAI_spec_mean = round(np.mean(wAI_spec_result),2)\n",
    "print(ind_sens_mean,  ind_spec_mean, wAI_sens_mean, wAI_spec_mean)\n",
    "\n"
   ]
  },
  {
   "cell_type": "code",
   "execution_count": null,
   "id": "8f73bb91-b035-4f4a-b6a3-09c2dc32bc0f",
   "metadata": {},
   "outputs": [],
   "source": [
    "df2.iloc[:170]['R01_pirads'].values"
   ]
  },
  {
   "cell_type": "code",
   "execution_count": 44,
   "id": "77e13640-262a-4769-b6e1-76d2a22511da",
   "metadata": {},
   "outputs": [
    {
     "data": {
      "text/plain": [
       "0      1\n",
       "1      1\n",
       "2      0\n",
       "3      1\n",
       "4      1\n",
       "      ..\n",
       "335    1\n",
       "336    1\n",
       "337    1\n",
       "338    1\n",
       "339    1\n",
       "Name: Rounded GT_GGG1, Length: 340, dtype: int64"
      ]
     },
     "execution_count": 44,
     "metadata": {},
     "output_type": "execute_result"
    }
   ],
   "source": [
    "df2['Rounded GT_GGG1']"
   ]
  },
  {
   "cell_type": "code",
   "execution_count": 56,
   "id": "1a85d889-5b6f-4aba-8a0c-132557d96719",
   "metadata": {},
   "outputs": [
    {
     "name": "stdout",
     "output_type": "stream",
     "text": [
      "0.6244276\n"
     ]
    }
   ],
   "source": [
    "est = 0.6983\n",
    "stde = 0.03769\n",
    "cil = est - 1.96 * stde\n",
    "print(cil)"
   ]
  },
  {
   "cell_type": "code",
   "execution_count": null,
   "id": "37da6526-d626-40de-b540-a55e5a26f9b8",
   "metadata": {},
   "outputs": [],
   "source": []
  }
 ],
 "metadata": {
  "kernelspec": {
   "display_name": "Python 3 (ipykernel)",
   "language": "python",
   "name": "python3"
  },
  "language_info": {
   "codemirror_mode": {
    "name": "ipython",
    "version": 3
   },
   "file_extension": ".py",
   "mimetype": "text/x-python",
   "name": "python",
   "nbconvert_exporter": "python",
   "pygments_lexer": "ipython3",
   "version": "3.9.18"
  }
 },
 "nbformat": 4,
 "nbformat_minor": 5
}
