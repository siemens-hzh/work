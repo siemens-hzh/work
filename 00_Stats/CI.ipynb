{
 "cells": [
  {
   "cell_type": "code",
   "execution_count": 2,
   "id": "b521ffce-fb22-4b29-8996-48a142942bd6",
   "metadata": {},
   "outputs": [],
   "source": [
    "import os"
   ]
  },
  {
   "cell_type": "markdown",
   "id": "87201d15-49d8-4f79-a465-b44f71b6fd47",
   "metadata": {},
   "source": [
    "## 单组率（基于二项分布x/N， 0~1）"
   ]
  },
  {
   "cell_type": "markdown",
   "id": "e38d2996-86a0-4015-8980-c5b97fa19042",
   "metadata": {},
   "source": [
    "### 1 Wald近似正态法"
   ]
  },
  {
   "cell_type": "code",
   "execution_count": 242,
   "id": "f1e3514c-1f18-4b14-ba2d-930f299f95ed",
   "metadata": {},
   "outputs": [
    {
     "name": "stdout",
     "output_type": "stream",
     "text": [
      "0.014860561828959912\n",
      "0.8071 0.778 0.8362\n"
     ]
    }
   ],
   "source": [
    "z= 1.96\n",
    "\n",
    "n = 705\n",
    "p = 0.8071\n",
    "round_digit = 4\n",
    "\n",
    "se = (p*(1-p)/n)**0.5\n",
    "print(se)\n",
    "CI_u = round(p + z * (p*(1-p)/n)**0.5, round_digit)\n",
    "CI_l = round(p - z * (p*(1-p)/n)**0.5, round_digit)\n",
    "print(p,CI_l, CI_u)"
   ]
  },
  {
   "cell_type": "markdown",
   "id": "84a92eb7",
   "metadata": {},
   "source": [
    "## 率差"
   ]
  },
  {
   "cell_type": "code",
   "execution_count": 245,
   "id": "8f0a23b7",
   "metadata": {},
   "outputs": [
    {
     "name": "stdout",
     "output_type": "stream",
     "text": [
      "0.083 0.0397 0.1263\n"
     ]
    }
   ],
   "source": [
    "z= 1.96\n",
    "\n",
    "n1 = 722\n",
    "n2 = 700\n",
    "p1 = 0.7313\n",
    "p2 = 0.8143\n",
    "round_digit = 4\n",
    "\n",
    "Sp1p2 = (p1*(1-p1)/n1 + p2*(1-p2)/n2)**0.5\n",
    "CI_u = round(p2-p1 + z * Sp1p2, round_digit)\n",
    "CI_l = round(p2-p1 - z * Sp1p2, round_digit)\n",
    "\n",
    "print(round(p2-p1,4), CI_l,CI_u)"
   ]
  },
  {
   "cell_type": "markdown",
   "id": "b7acde4f-f894-4df2-8a7c-3e5dd49cfb76",
   "metadata": {},
   "source": [
    "### 2 Wilson Score法"
   ]
  },
  {
   "cell_type": "code",
   "execution_count": 209,
   "id": "61d46780-db73-4230-8085-a4c56a49fc5e",
   "metadata": {},
   "outputs": [
    {
     "name": "stdout",
     "output_type": "stream",
     "text": [
      "0.8972 0.8252 0.9416\n"
     ]
    }
   ],
   "source": [
    "z= 1.96\n",
    "\n",
    "n = 107\n",
    "p = 0.8972\n",
    "round_digit = 4\n",
    "\n",
    "CI_u = round((2*n*p + z**2 + z *(z**2 + 4*n*p*(1-p))**0.5)/(2*(n+z**2)), round_digit)\n",
    "CI_l = round((2*n*p + z**2 - z *(z**2 + 4*n*p*(1-p))**0.5)/(2*(n+z**2)), round_digit)\n",
    "print(p,CI_l, CI_u)"
   ]
  },
  {
   "cell_type": "markdown",
   "id": "8a403d66-cbec-4eef-a642-3d252d44b651",
   "metadata": {},
   "source": [
    "### 3 精确检验：Clopper-Pearson法（适用于样本量很小，比如小于50使用，区间偏保守，精密度一般）"
   ]
  },
  {
   "cell_type": "code",
   "execution_count": null,
   "id": "59f40dcb-fd01-4b24-b0ec-874b8ee87f6e",
   "metadata": {},
   "outputs": [],
   "source": [
    "z= 1.96\n",
    "\n",
    "n = 200\n",
    "p = 0.8\n",
    "round_digit = 3\n",
    "\n",
    "#CI_u = round(, round_digit)\n",
    "#CI_l = round((2*n*p + z**2 - z *(z**2 + 4*n*p*(1-p))**0.5)/(2*(n+z**2)), round_digit)\n",
    "#print(CI_u, CI_l)"
   ]
  },
  {
   "cell_type": "markdown",
   "id": "d3faab15-4c15-4d94-afe8-edd58f6816a1",
   "metadata": {},
   "source": [
    "## 计量数据"
   ]
  },
  {
   "cell_type": "markdown",
   "id": "7c870035-1030-4411-890c-c6c440934de8",
   "metadata": {},
   "source": [
    "### 正态， 总体方差已知"
   ]
  },
  {
   "cell_type": "code",
   "execution_count": null,
   "id": "a3b7c3de-98f5-4240-8045-495bc6da198a",
   "metadata": {},
   "outputs": [],
   "source": [
    "\n",
    "ave = 0.8\n",
    "mean = \n",
    "stats = (ave - mean)/(std/n**0.5)"
   ]
  },
  {
   "cell_type": "markdown",
   "id": "9d92c896-1896-4e9b-91d6-999842219790",
   "metadata": {},
   "source": [
    "### ROC/AFROC AUC"
   ]
  },
  {
   "cell_type": "code",
   "execution_count": 198,
   "id": "5f68e2ce-f44a-4a13-b8a1-4726c6026367",
   "metadata": {},
   "outputs": [
    {
     "name": "stdout",
     "output_type": "stream",
     "text": [
      "0.022580090121834283\n",
      "0.8047 0.8933\n"
     ]
    }
   ],
   "source": [
    "z= 1.96\n",
    "\n",
    "n1 = 144 #Pos \n",
    "n2 = 170 #Neg\n",
    "auc = 0.849\n",
    "round_digit = 4\n",
    "\n",
    "q1 = auc/(2-auc)\n",
    "q2 = 2*auc**2/(1+auc)\n",
    "\n",
    "se = ((auc*(1-auc)+(n1-1)*(q1-auc**2)+(n2-1)*(q2-auc**2))/(n1*n2))**0.5\n",
    "print(se)\n",
    "CI_u = round(auc + z * se, round_digit)\n",
    "CI_l = round(auc - z * se, round_digit)\n",
    "print(CI_l, CI_u)"
   ]
  },
  {
   "cell_type": "markdown",
   "id": "09b78eae-b6fb-491a-9bc9-a394a6a6fcae",
   "metadata": {},
   "source": [
    "### Kappa value"
   ]
  },
  {
   "cell_type": "code",
   "execution_count": null,
   "id": "33405782-0336-402f-ac8d-46b6218d11a0",
   "metadata": {},
   "outputs": [],
   "source": [
    "import numpy as np\n",
    "\n",
    "z = 1.96\n",
    "\n",
    "def computer_kappa(conf_matrix, weighted='Linear'):\n",
    "    m = len(conf_matrix)\n",
    "    po = 0\n",
    "    pe = 0\n",
    "    N = np.sum(conf_matrix)\n",
    "    for i in range(m):\n",
    "        for j in range(m)):\n",
    "            prc = conf_maxtrix[i,j] / N        \n",
    "            pr = np.sum(conf_matrix[i,:]) / N\n",
    "            pc = np.sum(conf_matrix[:,j]) / N\n",
    "            if weighted == 'Normal':\n",
    "                w = 1 if i == j else 0\n",
    "            elif weighted == 'Linear':\n",
    "                w = 1 - abs(i - j)/(m - 1)\n",
    "            elif weighted == 'Quadratic':\n",
    "                w = 1 - (abs(i - j)/(m - 1))**2\n",
    "            po += w * prc\n",
    "            pe += w * pr * pc\n",
    "    kappa = (po - pe) / (1 - pe)\n",
    "    sdk = (po *(1 - po)/(1 -pe)**2)**0.5\n",
    "    CI_u = kappa + z * sdk\n",
    "    CI_l = kappa - z * sdk\n",
    "    return kappa, CI_u CI_l    "
   ]
  },
  {
   "cell_type": "code",
   "execution_count": 55,
   "id": "667eccca",
   "metadata": {},
   "outputs": [
    {
     "name": "stdout",
     "output_type": "stream",
     "text": [
      "8.717784527428615 0.04542509304529945 0.07177490695470051\n"
     ]
    }
   ],
   "source": [
    "k1 = 0.4403\n",
    "k2 = 0.4989\n",
    "\n",
    "po1 = 0.6233\n",
    "pe1 = 0.327\n",
    "po2 = 0.6322\n",
    "pe2 = 0.266\n",
    "n1 = 145\n",
    "n2 = 145\n",
    "n = 145\n",
    "\n",
    "s1 = po1*(1-po1)/n1/((1-pe1)**2)\n",
    "s2 = po2*(1-po2)/n2/((1-pe2)**2)\n",
    "s = (s1+s2)**0.5\n",
    "\n",
    "\n",
    "\n",
    "\n",
    "#delta_k = k2-k1\n",
    "z = (k2-k1)/s*(n**0.5)\n",
    "lcl = k2 - k1 - 1.96*(s/(n**0.5))\n",
    "ucl = k2 - k1 + 1.96*(s/(n**0.5))\n",
    "print(z, lcl, ucl)\n"
   ]
  },
  {
   "cell_type": "code",
   "execution_count": 56,
   "id": "6b82ef55",
   "metadata": {},
   "outputs": [
    {
     "name": "stdout",
     "output_type": "stream",
     "text": [
      "46.506601917343794 0.23534508306033847 0.2560549169396616 0.24570000000000003\n"
     ]
    }
   ],
   "source": [
    "k1 = 0.3456\n",
    "k2 = 0.5913\n",
    "\n",
    "po1 = 0.5288\n",
    "pe1 = 0.28\n",
    "po2 = 0.7172\n",
    "pe2 = 0.3081\n",
    "n1 = 180\n",
    "n2 = 180\n",
    "n = 180\n",
    "\n",
    "s1 = po1*(1-po1)/n1/((1-pe1)**2)\n",
    "s2 = po2*(1-po2)/n2/((1-pe2)**2)\n",
    "s = (s1+s2)**0.5\n",
    "\n",
    "#delta_k = k2-k1\n",
    "z = (k2-k1)/s*(n**0.5)\n",
    "lcl = k2 - k1 - 1.96*(s/(n**0.5))\n",
    "ucl = k2 - k1 + 1.96*(s/(n**0.5))\n",
    "print(z, lcl, ucl, k2-k1)\n",
    "#print(z,s1,s2,s)"
   ]
  },
  {
   "cell_type": "code",
   "execution_count": 64,
   "id": "e8441f5e",
   "metadata": {},
   "outputs": [
    {
     "data": {
      "text/plain": [
       "0.0465"
      ]
     },
     "execution_count": 64,
     "metadata": {},
     "output_type": "execute_result"
    }
   ],
   "source": [
    "0.093/2"
   ]
  },
  {
   "cell_type": "code",
   "execution_count": null,
   "id": "6f9e93d6",
   "metadata": {},
   "outputs": [],
   "source": []
  }
 ],
 "metadata": {
  "kernelspec": {
   "display_name": "Python 3 (ipykernel)",
   "language": "python",
   "name": "python3"
  },
  "language_info": {
   "codemirror_mode": {
    "name": "ipython",
    "version": 3
   },
   "file_extension": ".py",
   "mimetype": "text/x-python",
   "name": "python",
   "nbconvert_exporter": "python",
   "pygments_lexer": "ipython3",
   "version": "3.9.18"
  }
 },
 "nbformat": 4,
 "nbformat_minor": 5
}
