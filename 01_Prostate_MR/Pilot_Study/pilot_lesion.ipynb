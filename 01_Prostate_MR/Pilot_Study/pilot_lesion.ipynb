{
 "cells": [
  {
   "cell_type": "code",
   "execution_count": 148,
   "id": "93868900-1933-44be-b50c-8caf5d3f1acb",
   "metadata": {},
   "outputs": [],
   "source": [
    "import SimpleITK as sitk\n",
    "import os\n",
    "import numpy as np\n",
    "from tqdm import tqdm\n",
    "import copy"
   ]
  },
  {
   "cell_type": "code",
   "execution_count": 122,
   "id": "ab15a6b4-5820-4afc-b3af-1541b2c442e6",
   "metadata": {},
   "outputs": [
    {
     "name": "stderr",
     "output_type": "stream",
     "text": [
      "100%|████████████████████████████████████████████████████████████████████████████████████| 7/7 [01:15<00:00, 10.74s/it]"
     ]
    },
    {
     "name": "stdout",
     "output_type": "stream",
     "text": [
      "['KQQ\\\\P040 ADC.mhd', 'LF\\\\P161 DWI2000.mhd', 'ZHY\\\\P052 DWI2000.mhd', 'ZHY\\\\P065 DWI2000.mhd', 'ZHY\\\\P094 DWI2000.mhd', 'ZHY\\\\P104 DWI2000.mhd', 'WL\\\\P124 ADC.mhd', 'WL\\\\P126 ADC.mhd', 'WL\\\\P127 ADC.mhd', 'WL\\\\P162 ADC.mhd']\n"
     ]
    },
    {
     "name": "stderr",
     "output_type": "stream",
     "text": [
      "\n"
     ]
    }
   ],
   "source": [
    "input_root = r'D:\\Annotator\\B78_2nd_round\\MaskEdited'\n",
    "\n",
    "wrong_img = []\n",
    "#folder_list = os.listdir(r'D:\\Annotator\\B78_2nd_round\\MaskEdited')\n",
    "for folder in tqdm(['KQQ','LF','WHC','YJY','ZHY','WL','WZ']):\n",
    "    for root, folders, files in os.walk(os.path.join(input_root,folder)):\n",
    "        for file in files:\n",
    "            if file.endswith('mhd'):\n",
    "                if len(file) > 8:\n",
    "                    image = sitk.ReadImage(os.path.join(root, file))\n",
    "                    img = sitk.GetArrayFromImage(image)\n",
    "                    try:\n",
    "                        image2 = sitk.ReadImage(os.path.join('\\\\'.join(root.split('\\\\')[:-1]), file[:4], file[:4]+'.mhd'))\n",
    "                        img2 = sitk.GetArrayFromImage(image2)\n",
    "                    except Exception as e:\n",
    "                        print(file)\n",
    "                    if np.max(img) in [3,4,5] and np.max(img2)==0:\n",
    "                        wrong_img.append(os.path.join(folder, file))\n",
    "                    if np.max(img2)>5:\n",
    "                        print(folder, file)\n",
    "                    \n",
    "print(wrong_img)"
   ]
  },
  {
   "cell_type": "code",
   "execution_count": 109,
   "id": "ee4edc64-c9e8-4702-855b-2dc71774f301",
   "metadata": {},
   "outputs": [
    {
     "name": "stderr",
     "output_type": "stream",
     "text": [
      "  0%|                                                                                            | 0/1 [00:00<?, ?it/s]"
     ]
    },
    {
     "name": "stdout",
     "output_type": "stream",
     "text": [
      "P014 ADC.mhd\n",
      "P014 DWI2000.mhd\n",
      "P017 ADC.mhd\n",
      "P017 DWI2000.mhd\n",
      "P021 ADC.mhd\n",
      "P021 DWI2000.mhd\n",
      "P023 ADC.mhd\n",
      "P023 DWI2000.mhd\n",
      "P024 ADC.mhd\n",
      "P024 DWI2000.mhd\n",
      "P025 ADC.mhd\n",
      "P025 DWI2000.mhd\n",
      "P027 ADC.mhd\n",
      "P027 DWI2000.mhd\n",
      "P028 ADC.mhd\n",
      "P028 DWI2000.mhd\n",
      "P030 ADC.mhd\n",
      "P030 DWI2000.mhd\n",
      "P031 ADC.mhd\n",
      "P031 DWI2000.mhd\n",
      "P034 ADC.mhd\n",
      "P034 DWI2000.mhd\n",
      "P035 ADC.mhd\n",
      "P035 DWI2000.mhd\n",
      "P037 ADC.mhd\n",
      "P037 DWI2000.mhd\n",
      "P038 ADC.mhd\n",
      "P038 DWI2000.mhd\n",
      "P040 ADC.mhd\n",
      "P040 DWI2000.mhd\n",
      "P041 ADC.mhd\n",
      "P041 DWI2000.mhd\n",
      "P057 ADC.mhd\n",
      "P057 DWI2000.mhd\n",
      "P063 ADC.mhd\n",
      "P063 DWI2000.mhd\n",
      "P068 ADC.mhd\n",
      "P068 DWI2000.mhd\n",
      "P069 ADC.mhd\n",
      "P069 DWI2000.mhd\n"
     ]
    },
    {
     "name": "stderr",
     "output_type": "stream",
     "text": [
      "100%|████████████████████████████████████████████████████████████████████████████████████| 1/1 [00:08<00:00,  8.93s/it]"
     ]
    },
    {
     "name": "stdout",
     "output_type": "stream",
     "text": [
      "['ZHY\\\\P017 DWI2000.mhd', 'ZHY\\\\P021 DWI2000.mhd', 'ZHY\\\\P023 DWI2000.mhd', 'ZHY\\\\P024 DWI2000.mhd', 'ZHY\\\\P025 ADC.mhd', 'ZHY\\\\P027 DWI2000.mhd', 'ZHY\\\\P028 DWI2000.mhd', 'ZHY\\\\P030 DWI2000.mhd', 'ZHY\\\\P031 DWI2000.mhd', 'ZHY\\\\P034 DWI2000.mhd', 'ZHY\\\\P035 DWI2000.mhd', 'ZHY\\\\P037 DWI2000.mhd', 'ZHY\\\\P038 DWI2000.mhd', 'ZHY\\\\P052 DWI2000.mhd', 'ZHY\\\\P057 DWI2000.mhd', 'ZHY\\\\P065 DWI2000.mhd', 'ZHY\\\\P071 DWI2000.mhd', 'ZHY\\\\P072 DWI2000.mhd', 'ZHY\\\\P073 DWI2000.mhd', 'ZHY\\\\P074 DWI2000.mhd', 'ZHY\\\\P075 DWI2000.mhd', 'ZHY\\\\P076 DWI2000.mhd', 'ZHY\\\\P077 DWI2000.mhd', 'ZHY\\\\P078 DWI2000.mhd', 'ZHY\\\\P079 DWI2000.mhd', 'ZHY\\\\P080 DWI2000.mhd', 'ZHY\\\\P082 DWI2000.mhd', 'ZHY\\\\P083 DWI2000.mhd', 'ZHY\\\\P084 DWI2000.mhd', 'ZHY\\\\P085 DWI2000.mhd', 'ZHY\\\\P086 DWI2000.mhd', 'ZHY\\\\P089 DWI2000.mhd', 'ZHY\\\\P092 DWI2000.mhd', 'ZHY\\\\P094 DWI2000.mhd', 'ZHY\\\\P097 DWI2000.mhd', 'ZHY\\\\P102 DWI2000.mhd', 'ZHY\\\\P103 DWI2000.mhd', 'ZHY\\\\P104 DWI2000.mhd', 'ZHY\\\\P105 DWI2000.mhd', 'ZHY\\\\P107 DWI2000.mhd', 'ZHY\\\\P108 DWI2000.mhd', 'ZHY\\\\P109 DWI2000.mhd', 'ZHY\\\\P110 DWI2000.mhd', 'ZHY\\\\P111 DWI2000.mhd', 'ZHY\\\\P112 DWI2000.mhd', 'ZHY\\\\P113 DWI2000.mhd', 'ZHY\\\\P115 DWI2000.mhd', 'ZHY\\\\P118 DWI2000.mhd', 'ZHY\\\\P123 DWI2000.mhd', 'ZHY\\\\P124 DWI2000.mhd', 'ZHY\\\\P126 DWI2000.mhd', 'ZHY\\\\P127 DWI2000.mhd', 'ZHY\\\\P129 DWI2000.mhd', 'ZHY\\\\P130 DWI2000.mhd', 'ZHY\\\\P131 DWI2000.mhd', 'ZHY\\\\P132 DWI2000.mhd', 'ZHY\\\\P136 DWI2000.mhd', 'ZHY\\\\P137 DWI2000.mhd', 'ZHY\\\\P139 DWI2000.mhd', 'ZHY\\\\P141 DWI2000.mhd', 'ZHY\\\\P142 DWI2000.mhd', 'ZHY\\\\P144 DWI2000.mhd', 'ZHY\\\\P154 DWI2000.mhd', 'ZHY\\\\P156 DWI2000.mhd', 'ZHY\\\\P157 DWI2000.mhd', 'ZHY\\\\P158 DWI2000.mhd', 'ZHY\\\\P159 DWI2000.mhd', 'ZHY\\\\P162 DWI2000.mhd', 'ZHY\\\\P165 DWI2000.mhd', 'ZHY\\\\P167 DWI2000.mhd', 'ZHY\\\\P170 DWI2000.mhd', 'ZHY\\\\P177 DWI2000.mhd', 'ZHY\\\\P180 DWI2000.mhd']\n"
     ]
    },
    {
     "name": "stderr",
     "output_type": "stream",
     "text": [
      "\n"
     ]
    }
   ],
   "source": [
    "input_root = r'D:\\Annotator\\B78_2nd_round\\MaskEdited'\n",
    "\n",
    "wrong_img2 = []\n",
    "#folder_list = os.listdir(r'D:\\Annotator\\B78_2nd_round\\MaskEdited')\n",
    "for folder in tqdm(['ZHY']):\n",
    "    for root, folders, files in os.walk(os.path.join(input_root,folder)):\n",
    "        for file in files:\n",
    "            if file.endswith('mhd'):\n",
    "                if len(file) > 8:\n",
    "                    image = sitk.ReadImage(os.path.join(root, file))\n",
    "                    img = sitk.GetArrayFromImage(image)\n",
    "                    try:\n",
    "                        image2 = sitk.ReadImage(os.path.join('\\\\'.join(root.split('\\\\')[:-1]), file[:4], file[:4]+'.mhd'))\n",
    "                    except Exception as e:\n",
    "                        print(file)\n",
    "                    img2 = sitk.GetArrayFromImage(image2)\n",
    "                    if np.max(img) in [3,4,5] and np.max(img2)==0:\n",
    "                        wrong_img2.append(os.path.join(folder, file))\n",
    "print(wrong_img2)"
   ]
  },
  {
   "cell_type": "code",
   "execution_count": 38,
   "id": "c87834c2-ce7e-44de-aed0-549a37410432",
   "metadata": {},
   "outputs": [
    {
     "name": "stderr",
     "output_type": "stream",
     "text": [
      "100%|████████████████████████████████████████████████████████████████████████████████| 180/180 [00:19<00:00,  9.15it/s]\n"
     ]
    }
   ],
   "source": [
    "output = r'output'\n",
    "readers = ['WJ_2','WTL_2','XPY_2']\n",
    "for case in tqdm(case_list):\n",
    "    temp_score = []\n",
    "    temp = 0\n",
    "    flag = True\n",
    "    for reader in readers:\n",
    "        mhd_file = os.path.join(reader, case, case+'.mhd')\n",
    "        image = sitk.ReadImage(mhd_file)\n",
    "        img = sitk.GetArrayFromImage(image)\n",
    "        img_score = copy.deepcopy(img)\n",
    "        temp_score.append(img_score)\n",
    "        img[img>0]=1\n",
    "        if flag:\n",
    "            temp = img\n",
    "            flag = False\n",
    "        else:\n",
    "            temp += img\n",
    "    temp[temp<2]=0\n",
    "    voting_pixels = np.array(np.where(temp>0))\n",
    "    temp_shape = temp.shape\n",
    "    output_img = np.zeros(temp.shape, dtype=np.uint8)\n",
    "    for index in range(len(voting_pixels[0])):\n",
    "        coor = voting_pixels[:,index]\n",
    "        score_list = []\n",
    "        for score_img in temp_score:\n",
    "            score_list.append(score_img[coor[0],coor[1], coor[2]])\n",
    "        score = sorted(score_list)[1]\n",
    "        output_img[coor[0], coor[1], coor[2]] = score\n",
    "    output_image = sitk.GetImageFromArray(output_img)\n",
    "    os.makedirs(os.path.join(output, case))\n",
    "    sitk.WriteImage(output_image, os.path.join(output, case, case+'.hdr'))"
   ]
  },
  {
   "cell_type": "code",
   "execution_count": 138,
   "id": "4c8e3bfb-62d6-4950-a1a6-f206d80fc561",
   "metadata": {},
   "outputs": [
    {
     "name": "stderr",
     "output_type": "stream",
     "text": [
      "100%|████████████████████████████████████████████████████████████████████████████████| 180/180 [00:11<00:00, 15.94it/s]\n"
     ]
    }
   ],
   "source": [
    "\n",
    "from skimage import measure\n",
    "gt_lesion_dict = dict()\n",
    "for case in tqdm(case_list):\n",
    "    file = os.path.join(output, case, case+'.hdr')\n",
    "    image = sitk.ReadImage(file)\n",
    "    img = sitk.GetArrayFromImage(image)\n",
    "    labels = measure.label(img, connectivity=3)\n",
    "    regions = measure.regionprops(labels)\n",
    "    gt_lesion_list = []\n",
    "    for region in regions:\n",
    "        if region.area >50:\n",
    "            gt_lesion_list.append([region.coords, region.centroid, img[region.coords[0][0],region.coords[0][1], region.coords[0][2]], region.area])\n",
    "    gt_lesion_dict.setdefault(case, gt_lesion_list)"
   ]
  },
  {
   "cell_type": "code",
   "execution_count": 196,
   "id": "7091668a-b731-49c8-9d51-975adfcaa438",
   "metadata": {},
   "outputs": [
    {
     "name": "stderr",
     "output_type": "stream",
     "text": [
      "  1%|▉                                                                                 | 2/180 [00:00<00:13, 13.10it/s]"
     ]
    },
    {
     "name": "stdout",
     "output_type": "stream",
     "text": [
      "KQQ\n"
     ]
    },
    {
     "name": "stderr",
     "output_type": "stream",
     "text": [
      "100%|████████████████████████████████████████████████████████████████████████████████| 180/180 [00:32<00:00,  5.52it/s]\n",
      "  1%|▉                                                                                 | 2/180 [00:00<00:12, 13.86it/s]"
     ]
    },
    {
     "name": "stdout",
     "output_type": "stream",
     "text": [
      "LF\n"
     ]
    },
    {
     "name": "stderr",
     "output_type": "stream",
     "text": [
      "100%|████████████████████████████████████████████████████████████████████████████████| 180/180 [00:19<00:00,  9.43it/s]\n",
      "  1%|▉                                                                                 | 2/180 [00:00<00:13, 13.62it/s]"
     ]
    },
    {
     "name": "stdout",
     "output_type": "stream",
     "text": [
      "WHC\n"
     ]
    },
    {
     "name": "stderr",
     "output_type": "stream",
     "text": [
      "100%|████████████████████████████████████████████████████████████████████████████████| 180/180 [00:17<00:00, 10.36it/s]\n",
      "  1%|▉                                                                                 | 2/180 [00:00<00:16, 11.01it/s]"
     ]
    },
    {
     "name": "stdout",
     "output_type": "stream",
     "text": [
      "YJY\n"
     ]
    },
    {
     "name": "stderr",
     "output_type": "stream",
     "text": [
      "100%|████████████████████████████████████████████████████████████████████████████████| 180/180 [00:18<00:00,  9.87it/s]\n",
      "  1%|▉                                                                                 | 2/180 [00:00<00:13, 13.32it/s]"
     ]
    },
    {
     "name": "stdout",
     "output_type": "stream",
     "text": [
      "ZHY\n"
     ]
    },
    {
     "name": "stderr",
     "output_type": "stream",
     "text": [
      "100%|████████████████████████████████████████████████████████████████████████████████| 180/180 [00:18<00:00,  9.77it/s]\n",
      "  1%|▉                                                                                 | 2/180 [00:00<00:14, 12.44it/s]"
     ]
    },
    {
     "name": "stdout",
     "output_type": "stream",
     "text": [
      "WL\n"
     ]
    },
    {
     "name": "stderr",
     "output_type": "stream",
     "text": [
      "100%|████████████████████████████████████████████████████████████████████████████████| 180/180 [00:17<00:00, 10.07it/s]\n",
      "  1%|▉                                                                                 | 2/180 [00:00<00:11, 15.19it/s]"
     ]
    },
    {
     "name": "stdout",
     "output_type": "stream",
     "text": [
      "WZ\n"
     ]
    },
    {
     "name": "stderr",
     "output_type": "stream",
     "text": [
      "100%|████████████████████████████████████████████████████████████████████████████████| 180/180 [00:48<00:00,  3.73it/s]\n",
      "  1%|▉                                                                                 | 2/180 [00:00<00:14, 12.08it/s]"
     ]
    },
    {
     "name": "stdout",
     "output_type": "stream",
     "text": [
      "KQQ\n"
     ]
    },
    {
     "name": "stderr",
     "output_type": "stream",
     "text": [
      "100%|████████████████████████████████████████████████████████████████████████████████| 180/180 [00:50<00:00,  3.60it/s]\n",
      "  1%|▉                                                                                 | 2/180 [00:00<00:13, 13.59it/s]"
     ]
    },
    {
     "name": "stdout",
     "output_type": "stream",
     "text": [
      "LF\n"
     ]
    },
    {
     "name": "stderr",
     "output_type": "stream",
     "text": [
      "100%|████████████████████████████████████████████████████████████████████████████████| 180/180 [00:49<00:00,  3.61it/s]\n",
      "  1%|▉                                                                                 | 2/180 [00:00<00:11, 14.94it/s]"
     ]
    },
    {
     "name": "stdout",
     "output_type": "stream",
     "text": [
      "WHC\n"
     ]
    },
    {
     "name": "stderr",
     "output_type": "stream",
     "text": [
      "100%|████████████████████████████████████████████████████████████████████████████████| 180/180 [00:50<00:00,  3.57it/s]\n",
      "  1%|▉                                                                                 | 2/180 [00:00<00:12, 14.11it/s]"
     ]
    },
    {
     "name": "stdout",
     "output_type": "stream",
     "text": [
      "YJY\n"
     ]
    },
    {
     "name": "stderr",
     "output_type": "stream",
     "text": [
      "100%|████████████████████████████████████████████████████████████████████████████████| 180/180 [00:47<00:00,  3.80it/s]\n",
      "  1%|▉                                                                                 | 2/180 [00:00<00:11, 15.22it/s]"
     ]
    },
    {
     "name": "stdout",
     "output_type": "stream",
     "text": [
      "ZHY\n"
     ]
    },
    {
     "name": "stderr",
     "output_type": "stream",
     "text": [
      "100%|████████████████████████████████████████████████████████████████████████████████| 180/180 [01:02<00:00,  2.88it/s]\n",
      "  1%|▉                                                                                 | 2/180 [00:00<00:13, 13.62it/s]"
     ]
    },
    {
     "name": "stdout",
     "output_type": "stream",
     "text": [
      "WL\n"
     ]
    },
    {
     "name": "stderr",
     "output_type": "stream",
     "text": [
      "100%|████████████████████████████████████████████████████████████████████████████████| 180/180 [00:50<00:00,  3.55it/s]\n",
      "  1%|▉                                                                                 | 2/180 [00:00<00:11, 15.12it/s]"
     ]
    },
    {
     "name": "stdout",
     "output_type": "stream",
     "text": [
      "WZ\n"
     ]
    },
    {
     "name": "stderr",
     "output_type": "stream",
     "text": [
      "100%|████████████████████████████████████████████████████████████████████████████████| 180/180 [00:58<00:00,  3.05it/s]\n"
     ]
    }
   ],
   "source": [
    "import pandas as pd\n",
    "\n",
    "readers = ['KQQ','LF','WHC','YJY','ZHY','WL','WZ']\n",
    "input_root =  r'D:\\Annotator\\B78_2nd_round\\MaskEdited'\n",
    "for roundx in ['1st','2nd']:\n",
    "    input_root = fr'D:\\Annotator\\B78_{roundx}_round\\MaskEdited'\n",
    "    for reader in readers:\n",
    "        print(reader)\n",
    "        reader_dict = dict()\n",
    "        gt_dict = dict()\n",
    "        for col in ['PID', 'Reader_Lesion_idx', 'Reader_Lesion_Score','Reader_Lesion_Centroid','Reader_Lesion_Volume','GT_Lesion_idx', 'GT_Lesion_Score','GT_Lesion_Centroid','GT_Lesion_Volume','inter_area', 'Results']:\n",
    "            reader_dict.setdefault(col, [])\n",
    "        for col in ['PID', 'Reader_Lesion_idx', 'Reader_Lesion_Score','Reader_Lesion_Centroid','Reader_Lesion_Volume','GT_Lesion_idx', 'GT_Lesion_Score','GT_Lesion_Centroid','GT_Lesion_Volume','inter_area', 'Results']:\n",
    "            gt_dict.setdefault(col, [])\n",
    "        for case in tqdm(case_list):\n",
    "            anno_file = os.path.join(input_root, reader, case, case+'.mhd')\n",
    "            image = sitk.ReadImage(anno_file)\n",
    "            img = sitk.GetArrayFromImage(image)\n",
    "            labels = measure.label(img, connectivity=3)\n",
    "            regions = measure.regionprops(labels)\n",
    "            reader_lesion_list = []\n",
    "            for region in regions:\n",
    "                if region.area > 50:\n",
    "                    reader_lesion_list.append([region.coords, region.centroid, img[region.coords[0][0],region.coords[0][1], region.coords[0][2]], region.area])\n",
    "            if not reader_lesion_list:\n",
    "                reader_dict['PID'].append(case)\n",
    "                reader_dict['Reader_Lesion_idx'].append(0)\n",
    "                reader_dict['Reader_Lesion_Centroid'].append(0)\n",
    "                reader_dict['Reader_Lesion_Volume'].append(0)\n",
    "                reader_dict['GT_Lesion_idx'].append(0)\n",
    "                reader_dict['GT_Lesion_Score'].append(0)\n",
    "                reader_dict['GT_Lesion_Centroid'].append(0)\n",
    "                reader_dict['GT_Lesion_Volume'].append(0)\n",
    "                reader_dict['inter_area'].append(0)\n",
    "                if gt_lesion_dict[case]:\n",
    "                    reader_dict['Results'].append('FN')\n",
    "                    reader_dict['Reader_Lesion_Score'].append(1)\n",
    "                else:\n",
    "                    reader_dict['Results'].append('TN')\n",
    "                    reader_dict['Reader_Lesion_Score'].append(0)\n",
    "            if not gt_lesion_dict[case]:\n",
    "                gt_dict['PID'].append(case)\n",
    "                gt_dict['Reader_Lesion_idx'].append(0)\n",
    "                gt_dict['Reader_Lesion_Score'].append(0)\n",
    "                gt_dict['Reader_Lesion_Centroid'].append(0)\n",
    "                gt_dict['Reader_Lesion_Volume'].append(0)\n",
    "                gt_dict['GT_Lesion_idx'].append(0)\n",
    "                gt_dict['GT_Lesion_Score'].append(0)\n",
    "                gt_dict['GT_Lesion_Centroid'].append(0)\n",
    "                gt_dict['GT_Lesion_Volume'].append(0)\n",
    "                gt_dict['inter_area'].append(0)\n",
    "                if reader_lesion_list:\n",
    "                    gt_dict['Results'].append('FP')\n",
    "                else:\n",
    "                    gt_dict['Results'].append('TN')\n",
    "\n",
    "\n",
    "            for i in range(len(reader_lesion_list)):\n",
    "                lesion_coords = reader_lesion_list[i][0]\n",
    "                reader_dict['PID'].append(case)\n",
    "                reader_dict['Reader_Lesion_idx'].append(i+1)\n",
    "                reader_dict['Reader_Lesion_Score'].append(reader_lesion_list[i][2])\n",
    "                reader_dict['Reader_Lesion_Centroid'].append(reader_lesion_list[i][1])\n",
    "                reader_dict['Reader_Lesion_Volume'].append(reader_lesion_list[i][3])\n",
    "                flag = False\n",
    "                for j in range(len(gt_lesion_dict[case])):\n",
    "                    count = 0\n",
    "                    for lesion_coord in lesion_coords:\n",
    "                        if (lesion_coord==gt_lesion_dict[case][j][0]).all(1).any():\n",
    "                            count += 1\n",
    "                    if count:\n",
    "                        reader_dict['GT_Lesion_idx'].append(j+1)\n",
    "                        reader_dict['GT_Lesion_Score'].append(gt_lesion_dict[case][j][2])\n",
    "                        reader_dict['GT_Lesion_Centroid'].append(gt_lesion_dict[case][j][1])\n",
    "                        reader_dict['GT_Lesion_Volume'].append(gt_lesion_dict[case][j][3])\n",
    "                        reader_dict['inter_area'].append(count)\n",
    "                        reader_dict['Results'].append('TP')\n",
    "                        flag = True\n",
    "                        break\n",
    "                if not flag:\n",
    "                    reader_dict['GT_Lesion_idx'].append(0)\n",
    "                    reader_dict['GT_Lesion_Score'].append(0)\n",
    "                    reader_dict['GT_Lesion_Centroid'].append(0)\n",
    "                    reader_dict['GT_Lesion_Volume'].append(0)\n",
    "                    reader_dict['inter_area'].append(0)\n",
    "                    reader_dict['Results'].append('FP')\n",
    "            for j in range(len(gt_lesion_dict[case])):\n",
    "                lesion_coords = gt_lesion_dict[case][j][0]\n",
    "                gt_dict['PID'].append(case)\n",
    "                gt_dict['GT_Lesion_idx'].append(j+1)\n",
    "                gt_dict['GT_Lesion_Score'].append(gt_lesion_dict[case][j][2])\n",
    "                gt_dict['GT_Lesion_Centroid'].append(gt_lesion_dict[case][j][1])\n",
    "                gt_dict['GT_Lesion_Volume'].append(gt_lesion_dict[case][j][3])\n",
    "                flag = False\n",
    "                for i in range(len(reader_lesion_list)):\n",
    "                    count = 0\n",
    "                    for lesion_coord in lesion_coords:\n",
    "                        if (lesion_coord==reader_lesion_list[i][0]).all(1).any():\n",
    "                            count += 1\n",
    "                    if count:\n",
    "                        gt_dict['Reader_Lesion_idx'].append(i+1)\n",
    "                        gt_dict['Reader_Lesion_Score'].append(reader_lesion_list[i][2])\n",
    "                        gt_dict['Reader_Lesion_Centroid'].append(reader_lesion_list[i][1])\n",
    "                        gt_dict['Reader_Lesion_Volume'].append(reader_lesion_list[i][3])\n",
    "                        gt_dict['inter_area'].append(count)\n",
    "                        gt_dict['Results'].append('TP')\n",
    "                        flag = True\n",
    "                        break\n",
    "                if not flag:\n",
    "                    gt_dict['Reader_Lesion_idx'].append(0)\n",
    "                    gt_dict['Reader_Lesion_Score'].append(0)\n",
    "                    gt_dict['Reader_Lesion_Centroid'].append(0)\n",
    "                    gt_dict['Reader_Lesion_Volume'].append(0)\n",
    "                    gt_dict['inter_area'].append(0)\n",
    "                    gt_dict['Results'].append('FN')    \n",
    "        reader_df = pd.DataFrame(reader_dict)\n",
    "        gt_df = pd.DataFrame(gt_dict)\n",
    "        reader_df.to_excel(f'{reader}_{roundx}_read_lesion.xlsx', index=False)\n",
    "        gt_df.to_excel(f'{reader}_{roundx}_gt_lesion.xlsx', index=False)"
   ]
  },
  {
   "cell_type": "code",
   "execution_count": 163,
   "id": "03ab28d6-64a8-4862-b2d4-b9f861d3272d",
   "metadata": {},
   "outputs": [],
   "source": [
    "a = [[1,1,1],[2,3,3]]\n",
    "b = [[1,2,1],[2,2,2]]\n",
    "for aa in a:\n",
    "    if aa in b:\n",
    "        print(aa)"
   ]
  },
  {
   "cell_type": "code",
   "execution_count": 177,
   "id": "0fd46a65-2d02-4261-a0d6-2e6893d938c2",
   "metadata": {},
   "outputs": [],
   "source": [
    "a = reader_lesion_list[0][0][0]\n",
    "b = gt_lesion_dict['P180'][0][0]"
   ]
  },
  {
   "cell_type": "code",
   "execution_count": 185,
   "id": "05b84867-63b4-42e2-83da-b843957f8538",
   "metadata": {},
   "outputs": [],
   "source": [
    "c = np.array([[8,1,1],[8,163,151],[8,163,150]], dtype=np.int64)"
   ]
  },
  {
   "cell_type": "code",
   "execution_count": 175,
   "id": "2496863e-7147-43fc-9a2d-60e09c456603",
   "metadata": {},
   "outputs": [
    {
     "ename": "ValueError",
     "evalue": "The truth value of an array with more than one element is ambiguous. Use a.any() or a.all()",
     "output_type": "error",
     "traceback": [
      "\u001b[1;31m---------------------------------------------------------------------------\u001b[0m",
      "\u001b[1;31mValueError\u001b[0m                                Traceback (most recent call last)",
      "\u001b[1;32m<ipython-input-175-11564bc02bb3>\u001b[0m in \u001b[0;36m<module>\u001b[1;34m\u001b[0m\n\u001b[0;32m      1\u001b[0m \u001b[1;32mfor\u001b[0m \u001b[0mcc\u001b[0m \u001b[1;32min\u001b[0m \u001b[0mc\u001b[0m\u001b[1;33m:\u001b[0m\u001b[1;33m\u001b[0m\u001b[1;33m\u001b[0m\u001b[0m\n\u001b[1;32m----> 2\u001b[1;33m     \u001b[1;32mif\u001b[0m \u001b[0mcc\u001b[0m \u001b[1;32min\u001b[0m \u001b[0md\u001b[0m\u001b[1;33m:\u001b[0m\u001b[1;33m\u001b[0m\u001b[1;33m\u001b[0m\u001b[0m\n\u001b[0m\u001b[0;32m      3\u001b[0m         \u001b[0mprint\u001b[0m\u001b[1;33m(\u001b[0m\u001b[0mcc\u001b[0m\u001b[1;33m)\u001b[0m\u001b[1;33m\u001b[0m\u001b[1;33m\u001b[0m\u001b[0m\n",
      "\u001b[1;31mValueError\u001b[0m: The truth value of an array with more than one element is ambiguous. Use a.any() or a.all()"
     ]
    }
   ],
   "source": [
    "for cc in c:\n",
    "    if （cc=b).all(1)\n",
    "        "
   ]
  },
  {
   "cell_type": "code",
   "execution_count": 192,
   "id": "41cb73e9-e093-4bd6-a98e-8cb1c219889c",
   "metadata": {},
   "outputs": [
    {
     "name": "stdout",
     "output_type": "stream",
     "text": [
      "N\n",
      "Y\n",
      "N\n"
     ]
    }
   ],
   "source": [
    "for cc in c:\n",
    "    if (cc==b).all(1).any():\n",
    "        print('Y')\n",
    "    else:\n",
    "        print('N')"
   ]
  },
  {
   "cell_type": "code",
   "execution_count": 195,
   "id": "4d5561f1-922c-43ad-b298-f38b6b8ab2cb",
   "metadata": {},
   "outputs": [
    {
     "data": {
      "text/plain": [
       "False"
      ]
     },
     "execution_count": 195,
     "metadata": {},
     "output_type": "execute_result"
    }
   ],
   "source": [
    "(cc==b).all(1).any()"
   ]
  },
  {
   "cell_type": "code",
   "execution_count": null,
   "id": "8006e86c-a8bd-4935-8b61-b21bb6c3d3ee",
   "metadata": {},
   "outputs": [],
   "source": []
  }
 ],
 "metadata": {
  "kernelspec": {
   "display_name": "Python 3",
   "language": "python",
   "name": "python3"
  },
  "language_info": {
   "codemirror_mode": {
    "name": "ipython",
    "version": 3
   },
   "file_extension": ".py",
   "mimetype": "text/x-python",
   "name": "python",
   "nbconvert_exporter": "python",
   "pygments_lexer": "ipython3",
   "version": "3.8.8"
  }
 },
 "nbformat": 4,
 "nbformat_minor": 5
}
