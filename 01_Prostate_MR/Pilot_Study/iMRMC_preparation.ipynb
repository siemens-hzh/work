{
 "cells": [
  {
   "cell_type": "code",
   "execution_count": 1,
   "id": "cbf57f5a-0482-4946-8d02-4b7bfec55f8b",
   "metadata": {},
   "outputs": [],
   "source": [
    "import os\n",
    "import pandas as pd\n",
    "import pydicom\n",
    "from tqdm import tqdm"
   ]
  },
  {
   "cell_type": "code",
   "execution_count": 2,
   "id": "13f4030f-22d8-4127-bfc6-edf24cddfe91",
   "metadata": {},
   "outputs": [],
   "source": [
    "algo_output = r'D:\\dataset\\B78_out'\n",
    "output_file = r'D:\\UserData\\z004b0je\\OneDrive - Siemens Healthineers\\Projects\\Prostate MR\\innovation_path\\pilot_study\\pilot_study_mapping_score.xlsx'"
   ]
  },
  {
   "cell_type": "code",
   "execution_count": 3,
   "id": "c4aa0b4c-d32f-4e36-b5ee-a4b62d83770a",
   "metadata": {},
   "outputs": [],
   "source": [
    "New_LoS = []\n",
    "for folder in os.listdir(algo_output):\n",
    "    if folder.startswith('P'):\n",
    "        case = folder\n",
    "        flag = False\n",
    "        for root, _, files in os.walk(os.path.join(algo_output, folder)):\n",
    "            for file in files:\n",
    "                if file == 'caseLevelLoS.txt':\n",
    "                    with open(os.path.join(root, file), 'r') as f:\n",
    "                        los = float(f.read()[:-1])\n",
    "                    New_LoS.append(los)\n",
    "                    flag = True\n",
    "                    break\n",
    "            if flag:\n",
    "                break\n",
    "df = pd.read_excel(output_file)\n",
    "df['LoS'] = New_LoS\n",
    "df.to_excel(output_file, index=False)"
   ]
  },
  {
   "cell_type": "code",
   "execution_count": 4,
   "id": "23627fae-0304-4f41-afb7-e2da7a99887f",
   "metadata": {},
   "outputs": [],
   "source": [
    "reader_root = r'D:\\UserData\\z004b0je\\OneDrive - Siemens Healthineers\\Projects\\Prostate MR\\innovation_path\\pilot_study\\readers_annotation'"
   ]
  },
  {
   "cell_type": "code",
   "execution_count": 8,
   "id": "b24e06dd-abbe-464e-a53f-5069335f48fa",
   "metadata": {},
   "outputs": [
    {
     "name": "stdout",
     "output_type": "stream",
     "text": [
      "2886\n"
     ]
    }
   ],
   "source": [
    "case_list = ['P' + (3 - len(str(x)))*'0' +str(x) for x in range(1,181)]\n",
    "reader_list = ['KQQ','LF','WHC','YJY','ZHY','WL','WZ']\n",
    "begin_data = []\n",
    "begin_data.append('NR: 8\\n')\n",
    "begin_data.append('N0: 92\\n')\n",
    "begin_data.append('N1: 88\\n')\n",
    "begin_data.append('NM: 3\\n')\n",
    "\n",
    "begin_data.append('\\n')\n",
    "\n",
    "begin_data.append('BEGIN DATA:\\n')\n",
    "\n",
    "mapping_dict = {'reader_1_annotation.xlsx':'Unaided', 'reader_2_annotation.xlsx':'Aided', 'KQQ': 'Reader1', 'LF':'Reader2', 'WHC':'Reader3', 'YJY':'Reader4', 'ZHY': 'Reader5', 'WL': 'Reader6', 'WZ': 'Reader7'}\n",
    "pathology_result = r'D:\\UserData\\z004b0je\\OneDrive - Siemens Healthineers\\Projects\\Prostate MR\\innovation_path\\pilot_study\\pilot_study_mapping_score.xlsx'\n",
    "\n",
    "gt_df = pd.read_excel(pathology_result)\n",
    "isup_threshold = 2\n",
    "for index, row in gt_df.iterrows():\n",
    "    cur_case = row['PID']\n",
    "    cur_isup = row['ISUP']\n",
    "    if cur_isup >= isup_threshold:\n",
    "        cur_gt = 1\n",
    "    else:\n",
    "        cur_gt = 0\n",
    "    begin_data.append(','.join(['-1', cur_case, '0', str(cur_gt)]) +'\\n')\n",
    "\n",
    "for index, row in gt_df.iterrows():\n",
    "    cur_case = row['PID']\n",
    "    cur_reader = 'AI'\n",
    "    cur_los = row['LoS']\n",
    "    cur_modality = 'AI_Standalone'\n",
    "    begin_data.append(','.join([cur_reader, cur_case, cur_modality, str(cur_los)]) +'\\n')\n",
    "    \n",
    "reader_results =['reader_1_annotation.xlsx', 'reader_2_annotation.xlsx']\n",
    "for result in reader_results:\n",
    "    reader_result = os.path.join(reader_root, result)\n",
    "    reader_df = pd.read_excel(reader_result)\n",
    "    for reader in reader_list:\n",
    "        for index, row in reader_df.iterrows():\n",
    "            cur_case = row['PID']\n",
    "            cur_reader = mapping_dict.get(reader)\n",
    "            cur_modality = mapping_dict.get(result)\n",
    "            cur_los = str(row[reader+'_S'])\n",
    "            begin_data.append(','.join([cur_reader, cur_case, cur_modality, cur_los]) + '\\n') \n",
    "print(len(begin_data))\n",
    "with open(f'raw_isup_data_isup_{isup_threshold}.csv', 'w') as f:\n",
    "    f.writelines(begin_data)"
   ]
  },
  {
   "cell_type": "code",
   "execution_count": null,
   "id": "d5337d65-4c34-4674-a489-0a18fd4bd3ac",
   "metadata": {},
   "outputs": [],
   "source": []
  },
  {
   "cell_type": "code",
   "execution_count": null,
   "id": "9aaa1670-cca2-433c-9a51-d4e5e5963099",
   "metadata": {},
   "outputs": [],
   "source": []
  },
  {
   "cell_type": "code",
   "execution_count": null,
   "id": "3c2bfc9d-e3e1-4b39-b910-ff36a7c70d05",
   "metadata": {},
   "outputs": [],
   "source": []
  }
 ],
 "metadata": {
  "kernelspec": {
   "display_name": "Python 3",
   "language": "python",
   "name": "python3"
  },
  "language_info": {
   "codemirror_mode": {
    "name": "ipython",
    "version": 3
   },
   "file_extension": ".py",
   "mimetype": "text/x-python",
   "name": "python",
   "nbconvert_exporter": "python",
   "pygments_lexer": "ipython3",
   "version": "3.8.8"
  }
 },
 "nbformat": 4,
 "nbformat_minor": 5
}
