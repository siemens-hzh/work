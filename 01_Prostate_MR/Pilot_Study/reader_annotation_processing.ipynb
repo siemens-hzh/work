{
 "cells": [
  {
   "cell_type": "code",
   "execution_count": null,
   "id": "50c3c1cf-ab53-49df-a9a4-3ae3e5cfc444",
   "metadata": {},
   "outputs": [],
   "source": []
  },
  {
   "cell_type": "markdown",
   "id": "f6e745d1-fdbd-4fd9-beb4-69d967b71990",
   "metadata": {},
   "source": [
    "## Merge results from T2, ADC, DWI 2000"
   ]
  },
  {
   "cell_type": "code",
   "execution_count": null,
   "id": "7d38e364-8c74-44b6-9ce8-b5a2be98da4a",
   "metadata": {},
   "outputs": [],
   "source": [
    "import os\n",
    "import time\n",
    "\n",
    "from tqdm import tqdm\n",
    "import numpy as np\n",
    "import SimpleITK as sitk"
   ]
  },
  {
   "cell_type": "code",
   "execution_count": null,
   "id": "26c481c7-7cb9-4f4d-829c-3e401443ab80",
   "metadata": {},
   "outputs": [],
   "source": [
    "#input_root =[r'D:\\Annotator\\B78_1st_round\\MaskEdited', r'D:\\Annotator\\B78_2st_round\\MaskEdited']\n",
    "#output_root = [r'B78_reader1_output, 'r'B78_reader2_output']\n",
    "#reader_name = ['KQQ','LF','WHC', 'YJY', 'ZHY','WL','WZ']\n",
    "reader_name = ['WJ1', 'WJ2', 'WTL1', 'WTL2', 'XPY1','XPY2']\n",
    "aided = False\n",
    "case_list = ['P' + (3-len(str(x)))*'0' + str(x) for x in range(1,181)]"
   ]
  },
  {
   "cell_type": "code",
   "execution_count": null,
   "id": "31ba49db-dad8-4ef7-a9cf-b49032d52d6d",
   "metadata": {},
   "outputs": [],
   "source": [
    "error_list = []\n",
    "for roundx in ['1st']:\n",
    "    input_root = rf'D:\\Annotator\\B78_GT\\MaskEdited'\n",
    "    output_root = rf'D:\\dataset\\B78_GT_output'\n",
    "    for reader in reader_name:\n",
    "        print(f'Now process {reader}\\'s data')\n",
    "        #time.sleep(1)\n",
    "        reader_annotations = os.path.join(input_root, reader)\n",
    "        for case in tqdm(case_list):\n",
    "            image_status = False\n",
    "            mask_count = 0\n",
    "            for folder in os.listdir(reader_annotations):\n",
    "                if folder.startswith(case):\n",
    "                    image = sitk.ReadImage(os.path.join(reader_annotations, folder, folder+'.mhd'))\n",
    "                    image_array = sitk.GetArrayFromImage(image)\n",
    "                    if np.max(image_array) > 5:\n",
    "                        error_list.append([os.path.join(reader_annotations, folder), np.max(image_array)])\n",
    "                    if np.max(image_array) > 0:\n",
    "                        mask_count += 1\n",
    "                    if not image_status:\n",
    "                        temp_mask = image_array\n",
    "                        image_origin = image.GetOrigin()\n",
    "                        image_spacing = image.GetSpacing()\n",
    "                        image_direction = image.GetDirection()\n",
    "                        image_status = True\n",
    "                    else:\n",
    "                        temp_mask += image_array\n",
    "            if mask_count > 1:\n",
    "                error_list.append(os.path.join(reader_annotations, case))\n",
    "            mask_image = sitk.GetImageFromArray(temp_mask)\n",
    "            mask_image.SetOrigin(image_origin)\n",
    "            mask_image.SetSpacing(image_spacing)\n",
    "            mask_image.SetDirection(image_direction)\n",
    "            output_folder = os.path.join(output_root, reader)\n",
    "            if not os.path.exists(output_folder):\n",
    "                os.makedirs(output_folder)\n",
    "            sitk.WriteImage(mask_image, os.path.join(output_folder, case+'.mhd'))              "
   ]
  },
  {
   "cell_type": "code",
   "execution_count": null,
   "id": "432d56dd-4fb3-43b4-ab73-e3d87b3dbc7b",
   "metadata": {},
   "outputs": [],
   "source": [
    "for error in error_list:\n",
    "    print(error)"
   ]
  },
  {
   "cell_type": "markdown",
   "id": "bde2e635-cc28-4aa3-b13d-64f00128b5be",
   "metadata": {},
   "source": [
    "## Extract Case Info"
   ]
  },
  {
   "cell_type": "code",
   "execution_count": null,
   "id": "fefad015-6283-4699-8061-00d0755b685f",
   "metadata": {},
   "outputs": [],
   "source": [
    "import os\n",
    "\n",
    "import numpy as np\n",
    "import SimpleITK as sitk\n",
    "import pandas as pd"
   ]
  },
  {
   "cell_type": "code",
   "execution_count": null,
   "id": "982b765c-d8ea-45ab-988c-bd3385217ed1",
   "metadata": {},
   "outputs": [],
   "source": [
    "input_root = r''\n",
    "reader_list = ['WJ1', 'WJ2', 'WTL1', 'WTL2', 'XPY1','XPY2']"
   ]
  },
  {
   "cell_type": "code",
   "execution_count": null,
   "id": "ff423e6b-d84f-44a8-9dd0-4d6f694382a7",
   "metadata": {},
   "outputs": [],
   "source": [
    "for i in range(2,3):\n",
    "    input_root = rf'D:\\dataset\\B78_GT_output'\n",
    "    readers_results = rf'D:\\UserData\\z004b0je\\OneDrive - Siemens Healthineers\\Projects\\Prostate MR\\innovation_path\\pilot_study\\readers_annotation\\gt_annotation.xlsx'\n",
    "    readers_df = pd.read_excel(readers_results)\n",
    "    for reader in reader_list:\n",
    "        reader_folder = os.path.join(input_root, reader)\n",
    "        \n",
    "        for idx, row in readers_df.iterrows():\n",
    "            case = row['PID']\n",
    "            image = sitk.ReadImage(os.path.join(input_root, reader, case+'.mhd'))\n",
    "            image_array = sitk.GetArrayFromImage(image)\n",
    "            readers_df[reader].iloc[idx] = np.max(image_array)\n",
    "    readers_df.to_excel(readers_results, index=False)"
   ]
  },
  {
   "cell_type": "markdown",
   "id": "f23d7b32-5d38-434b-88cd-143e9a549e6a",
   "metadata": {},
   "source": [
    "## Extract Lesion Info"
   ]
  },
  {
   "cell_type": "code",
   "execution_count": 1,
   "id": "55c4b726-aeb3-4f86-b095-e317acc1f737",
   "metadata": {},
   "outputs": [],
   "source": [
    "import os\n",
    "import SimpleITK as sitk\n",
    "import pandas as pd\n",
    "import numpy as np\n",
    "from tqdm import tqdm\n",
    "from skimage.measure import label, regionprops"
   ]
  },
  {
   "cell_type": "code",
   "execution_count": 2,
   "id": "31089f86-dd46-4bc5-8f14-a7330975c133",
   "metadata": {},
   "outputs": [],
   "source": [
    "reader_name = ['KQQ','LF','WHC', 'YJY', 'ZHY','WL','WZ']\n",
    "case_list = ['P' + (3-len(str(x)))*'0' + str(x) for x in range(1,181)]\n"
   ]
  },
  {
   "cell_type": "code",
   "execution_count": 29,
   "id": "e99281ec-22b9-493c-8f75-8d8c33e82874",
   "metadata": {},
   "outputs": [],
   "source": [
    "def get_lesion_info(mask, area_thres=50):\n",
    "    lesion_list = []\n",
    "    image = sitk.ReadImage(mask)\n",
    "    mask_array = sitk.GetArrayFromImage(image)\n",
    "    #print(mask_array.shape)\n",
    "    labels = label(mask_array, connectivity=3)\n",
    "    regions = regionprops(labels)\n",
    "    for region in regions:\n",
    "        if region.area < area_thres:\n",
    "            #print(region.area)\n",
    "            continue\n",
    "        if region.area < 100:\n",
    "            print(mask, region.area)\n",
    "        centroid = np.round(region.centroid)\n",
    "        phys_centroid = np.round(image.TransformContinuousIndexToPhysicalPoint(centroid[::-1]),4)\n",
    "        #print(centroid, phys_centroid)\n",
    "        score = mask_array[region.coords[0][0], region.coords[0][1], region.coords[0][2]]\n",
    "        lesion_list.append([phys_centroid, score])\n",
    "    return lesion_list"
   ]
  },
  {
   "cell_type": "code",
   "execution_count": 30,
   "id": "48c7f87b-edc4-47d8-8a88-a530b8dc44e1",
   "metadata": {},
   "outputs": [
    {
     "name": "stderr",
     "output_type": "stream",
     "text": [
      "  8%|██████▎                                                                          | 14/180 [00:00<00:08, 19.48it/s]"
     ]
    },
    {
     "name": "stdout",
     "output_type": "stream",
     "text": [
      "D:\\dataset\\B78_reader1_output\\KQQ\\P012.mhd 52\n"
     ]
    },
    {
     "name": "stderr",
     "output_type": "stream",
     "text": [
      " 65%|████████████████████████████████████████████████████                            | 117/180 [00:05<00:01, 33.74it/s]"
     ]
    },
    {
     "name": "stdout",
     "output_type": "stream",
     "text": [
      "D:\\dataset\\B78_reader1_output\\KQQ\\P110.mhd 56\n"
     ]
    },
    {
     "name": "stderr",
     "output_type": "stream",
     "text": [
      "100%|████████████████████████████████████████████████████████████████████████████████| 180/180 [00:06<00:00, 26.07it/s]\n",
      "  1%|▉                                                                                 | 2/180 [00:00<00:10, 17.28it/s]"
     ]
    },
    {
     "name": "stdout",
     "output_type": "stream",
     "text": [
      "D:\\dataset\\B78_reader1_output\\KQQ\\P177.mhd 81\n",
      "D:\\dataset\\B78_reader1_output\\LF\\P001.mhd 76\n"
     ]
    },
    {
     "name": "stderr",
     "output_type": "stream",
     "text": [
      " 32%|██████████████████████████                                                       | 58/180 [00:02<00:06, 19.36it/s]"
     ]
    },
    {
     "name": "stdout",
     "output_type": "stream",
     "text": [
      "D:\\dataset\\B78_reader1_output\\LF\\P057.mhd 74\n"
     ]
    },
    {
     "name": "stderr",
     "output_type": "stream",
     "text": [
      " 45%|████████████████████████████████████▍                                            | 81/180 [00:04<00:04, 20.24it/s]"
     ]
    },
    {
     "name": "stdout",
     "output_type": "stream",
     "text": [
      "D:\\dataset\\B78_reader1_output\\LF\\P078.mhd 51\n"
     ]
    },
    {
     "name": "stderr",
     "output_type": "stream",
     "text": [
      " 66%|████████████████████████████████████████████████████▍                           | 118/180 [00:05<00:01, 34.01it/s]"
     ]
    },
    {
     "name": "stdout",
     "output_type": "stream",
     "text": [
      "D:\\dataset\\B78_reader1_output\\LF\\P112.mhd 75\n",
      "D:\\dataset\\B78_reader1_output\\LF\\P112.mhd 80\n"
     ]
    },
    {
     "name": "stderr",
     "output_type": "stream",
     "text": [
      "100%|████████████████████████████████████████████████████████████████████████████████| 180/180 [00:07<00:00, 25.59it/s]\n",
      "  2%|█▎                                                                                | 3/180 [00:00<00:08, 21.88it/s]"
     ]
    },
    {
     "name": "stdout",
     "output_type": "stream",
     "text": [
      "D:\\dataset\\B78_reader1_output\\LF\\P179.mhd 92\n"
     ]
    },
    {
     "name": "stderr",
     "output_type": "stream",
     "text": [
      "100%|████████████████████████████████████████████████████████████████████████████████| 180/180 [00:06<00:00, 26.12it/s]\n",
      "  2%|█▎                                                                                | 3/180 [00:00<00:08, 21.33it/s]"
     ]
    },
    {
     "name": "stdout",
     "output_type": "stream",
     "text": [
      "D:\\dataset\\B78_reader1_output\\WHC\\P179.mhd 76\n"
     ]
    },
    {
     "name": "stderr",
     "output_type": "stream",
     "text": [
      "  5%|████                                                                              | 9/180 [00:00<00:08, 21.02it/s]"
     ]
    },
    {
     "name": "stdout",
     "output_type": "stream",
     "text": [
      "D:\\dataset\\B78_reader1_output\\YJY\\P007.mhd 99\n"
     ]
    },
    {
     "name": "stderr",
     "output_type": "stream",
     "text": [
      " 15%|████████████▏                                                                    | 27/180 [00:01<00:07, 20.47it/s]"
     ]
    },
    {
     "name": "stdout",
     "output_type": "stream",
     "text": [
      "D:\\dataset\\B78_reader1_output\\YJY\\P023.mhd 74\n"
     ]
    },
    {
     "name": "stderr",
     "output_type": "stream",
     "text": [
      " 29%|███████████████████████▊                                                         | 53/180 [00:02<00:06, 19.79it/s]"
     ]
    },
    {
     "name": "stdout",
     "output_type": "stream",
     "text": [
      "D:\\dataset\\B78_reader1_output\\YJY\\P050.mhd 96\n"
     ]
    },
    {
     "name": "stderr",
     "output_type": "stream",
     "text": [
      " 32%|██████████████████████████                                                       | 58/180 [00:02<00:06, 19.82it/s]"
     ]
    },
    {
     "name": "stdout",
     "output_type": "stream",
     "text": [
      "D:\\dataset\\B78_reader1_output\\YJY\\P055.mhd 83\n",
      "D:\\dataset\\B78_reader1_output\\YJY\\P058.mhd 96\n"
     ]
    },
    {
     "name": "stderr",
     "output_type": "stream",
     "text": [
      " 36%|████████████████████████████▊                                                    | 64/180 [00:03<00:05, 20.58it/s]"
     ]
    },
    {
     "name": "stdout",
     "output_type": "stream",
     "text": [
      "D:\\dataset\\B78_reader1_output\\YJY\\P063.mhd 99\n"
     ]
    },
    {
     "name": "stderr",
     "output_type": "stream",
     "text": [
      " 55%|████████████████████████████████████████████▌                                    | 99/180 [00:04<00:02, 28.50it/s]"
     ]
    },
    {
     "name": "stdout",
     "output_type": "stream",
     "text": [
      "D:\\dataset\\B78_reader1_output\\YJY\\P092.mhd 72\n",
      "D:\\dataset\\B78_reader1_output\\YJY\\P097.mhd 53\n",
      "D:\\dataset\\B78_reader1_output\\YJY\\P099.mhd 58\n"
     ]
    },
    {
     "name": "stderr",
     "output_type": "stream",
     "text": [
      " 59%|███████████████████████████████████████████████▌                                | 107/180 [00:04<00:02, 31.49it/s]"
     ]
    },
    {
     "name": "stdout",
     "output_type": "stream",
     "text": [
      "D:\\dataset\\B78_reader1_output\\YJY\\P100.mhd 81\n",
      "D:\\dataset\\B78_reader1_output\\YJY\\P103.mhd 65\n"
     ]
    },
    {
     "name": "stderr",
     "output_type": "stream",
     "text": [
      " 64%|███████████████████████████████████████████████████                             | 115/180 [00:05<00:01, 33.22it/s]"
     ]
    },
    {
     "name": "stdout",
     "output_type": "stream",
     "text": [
      "D:\\dataset\\B78_reader1_output\\YJY\\P108.mhd 81\n",
      "D:\\dataset\\B78_reader1_output\\YJY\\P112.mhd 87\n",
      "D:\\dataset\\B78_reader1_output\\YJY\\P112.mhd 57\n",
      "D:\\dataset\\B78_reader1_output\\YJY\\P113.mhd 88\n"
     ]
    },
    {
     "name": "stderr",
     "output_type": "stream",
     "text": [
      " 69%|███████████████████████████████████████████████████████                         | 124/180 [00:05<00:01, 35.10it/s]"
     ]
    },
    {
     "name": "stdout",
     "output_type": "stream",
     "text": [
      "D:\\dataset\\B78_reader1_output\\YJY\\P119.mhd 95\n"
     ]
    },
    {
     "name": "stderr",
     "output_type": "stream",
     "text": [
      " 78%|██████████████████████████████████████████████████████████████▏                 | 140/180 [00:05<00:01, 36.57it/s]"
     ]
    },
    {
     "name": "stdout",
     "output_type": "stream",
     "text": [
      "D:\\dataset\\B78_reader1_output\\YJY\\P133.mhd 55\n",
      "D:\\dataset\\B78_reader1_output\\YJY\\P133.mhd 62\n",
      "D:\\dataset\\B78_reader1_output\\YJY\\P138.mhd 79\n",
      "D:\\dataset\\B78_reader1_output\\YJY\\P138.mhd 85\n"
     ]
    },
    {
     "name": "stderr",
     "output_type": "stream",
     "text": [
      " 82%|█████████████████████████████████████████████████████████████████▊              | 148/180 [00:06<00:00, 34.80it/s]"
     ]
    },
    {
     "name": "stdout",
     "output_type": "stream",
     "text": [
      "D:\\dataset\\B78_reader1_output\\YJY\\P142.mhd 53\n",
      "D:\\dataset\\B78_reader1_output\\YJY\\P143.mhd 79\n"
     ]
    },
    {
     "name": "stderr",
     "output_type": "stream",
     "text": [
      " 84%|███████████████████████████████████████████████████████████████████▌            | 152/180 [00:06<00:00, 34.77it/s]"
     ]
    },
    {
     "name": "stdout",
     "output_type": "stream",
     "text": [
      "D:\\dataset\\B78_reader1_output\\YJY\\P149.mhd 93\n",
      "D:\\dataset\\B78_reader1_output\\YJY\\P149.mhd 73\n",
      "D:\\dataset\\B78_reader1_output\\YJY\\P151.mhd 78\n",
      "D:\\dataset\\B78_reader1_output\\YJY\\P151.mhd 69\n",
      "D:\\dataset\\B78_reader1_output\\YJY\\P155.mhd 88\n"
     ]
    },
    {
     "name": "stderr",
     "output_type": "stream",
     "text": [
      " 89%|███████████████████████████████████████████████████████████████████████         | 160/180 [00:06<00:00, 33.53it/s]"
     ]
    },
    {
     "name": "stdout",
     "output_type": "stream",
     "text": [
      "D:\\dataset\\B78_reader1_output\\YJY\\P157.mhd 86\n",
      "D:\\dataset\\B78_reader1_output\\YJY\\P157.mhd 63\n",
      "D:\\dataset\\B78_reader1_output\\YJY\\P160.mhd 70\n",
      "D:\\dataset\\B78_reader1_output\\YJY\\P160.mhd 53\n",
      "D:\\dataset\\B78_reader1_output\\YJY\\P163.mhd 57\n"
     ]
    },
    {
     "name": "stderr",
     "output_type": "stream",
     "text": [
      " 96%|████████████████████████████████████████████████████████████████████████████▍   | 172/180 [00:06<00:00, 34.18it/s]"
     ]
    },
    {
     "name": "stdout",
     "output_type": "stream",
     "text": [
      "D:\\dataset\\B78_reader1_output\\YJY\\P168.mhd 70\n"
     ]
    },
    {
     "name": "stderr",
     "output_type": "stream",
     "text": [
      "100%|████████████████████████████████████████████████████████████████████████████████| 180/180 [00:07<00:00, 25.60it/s]\n",
      "  1%|▉                                                                                 | 2/180 [00:00<00:08, 19.99it/s]"
     ]
    },
    {
     "name": "stdout",
     "output_type": "stream",
     "text": [
      "D:\\dataset\\B78_reader1_output\\YJY\\P177.mhd 89\n",
      "D:\\dataset\\B78_reader1_output\\YJY\\P179.mhd 86\n"
     ]
    },
    {
     "name": "stderr",
     "output_type": "stream",
     "text": [
      " 41%|████████████████████████████████▊                                                | 73/180 [00:03<00:05, 19.00it/s]"
     ]
    },
    {
     "name": "stdout",
     "output_type": "stream",
     "text": [
      "D:\\dataset\\B78_reader1_output\\ZHY\\P071.mhd 92\n"
     ]
    },
    {
     "name": "stderr",
     "output_type": "stream",
     "text": [
      " 66%|████████████████████████████████████████████████████▍                           | 118/180 [00:05<00:01, 34.02it/s]"
     ]
    },
    {
     "name": "stdout",
     "output_type": "stream",
     "text": [
      "D:\\dataset\\B78_reader1_output\\ZHY\\P113.mhd 72\n"
     ]
    },
    {
     "name": "stderr",
     "output_type": "stream",
     "text": [
      "100%|████████████████████████████████████████████████████████████████████████████████| 180/180 [00:07<00:00, 25.69it/s]\n",
      "  2%|█▎                                                                                | 3/180 [00:00<00:08, 20.65it/s]"
     ]
    },
    {
     "name": "stdout",
     "output_type": "stream",
     "text": [
      "D:\\dataset\\B78_reader1_output\\ZHY\\P179.mhd 75\n"
     ]
    },
    {
     "name": "stderr",
     "output_type": "stream",
     "text": [
      " 61%|████████████████████████████████████████████████▉                               | 110/180 [00:05<00:02, 33.20it/s]"
     ]
    },
    {
     "name": "stdout",
     "output_type": "stream",
     "text": [
      "D:\\dataset\\B78_reader1_output\\WL\\P103.mhd 75\n"
     ]
    },
    {
     "name": "stderr",
     "output_type": "stream",
     "text": [
      " 63%|██████████████████████████████████████████████████▋                             | 114/180 [00:05<00:01, 33.59it/s]"
     ]
    },
    {
     "name": "stdout",
     "output_type": "stream",
     "text": [
      "D:\\dataset\\B78_reader1_output\\WL\\P111.mhd 96\n",
      "D:\\dataset\\B78_reader1_output\\WL\\P112.mhd 84\n",
      "D:\\dataset\\B78_reader1_output\\WL\\P114.mhd 93\n"
     ]
    },
    {
     "name": "stderr",
     "output_type": "stream",
     "text": [
      " 68%|██████████████████████████████████████████████████████▏                         | 122/180 [00:05<00:01, 34.25it/s]"
     ]
    },
    {
     "name": "stdout",
     "output_type": "stream",
     "text": [
      "D:\\dataset\\B78_reader1_output\\WL\\P118.mhd 76\n",
      "D:\\dataset\\B78_reader1_output\\WL\\P122.mhd 83\n"
     ]
    },
    {
     "name": "stderr",
     "output_type": "stream",
     "text": [
      " 72%|█████████████████████████████████████████████████████████▊                      | 130/180 [00:05<00:01, 35.78it/s]"
     ]
    },
    {
     "name": "stdout",
     "output_type": "stream",
     "text": [
      "D:\\dataset\\B78_reader1_output\\WL\\P127.mhd 98\n"
     ]
    },
    {
     "name": "stderr",
     "output_type": "stream",
     "text": [
      " 84%|███████████████████████████████████████████████████████████████████             | 151/180 [00:06<00:00, 35.47it/s]"
     ]
    },
    {
     "name": "stdout",
     "output_type": "stream",
     "text": [
      "D:\\dataset\\B78_reader1_output\\WL\\P145.mhd 90\n",
      "D:\\dataset\\B78_reader1_output\\WL\\P147.mhd 75\n",
      "D:\\dataset\\B78_reader1_output\\WL\\P150.mhd 73\n"
     ]
    },
    {
     "name": "stderr",
     "output_type": "stream",
     "text": [
      " 93%|██████████████████████████████████████████████████████████████████████████▏     | 167/180 [00:06<00:00, 36.10it/s]"
     ]
    },
    {
     "name": "stdout",
     "output_type": "stream",
     "text": [
      "D:\\dataset\\B78_reader1_output\\WL\\P163.mhd 60\n"
     ]
    },
    {
     "name": "stderr",
     "output_type": "stream",
     "text": [
      "100%|████████████████████████████████████████████████████████████████████████████████| 180/180 [00:07<00:00, 25.30it/s]\n",
      "  0%|                                                                                          | 0/180 [00:00<?, ?it/s]"
     ]
    },
    {
     "name": "stdout",
     "output_type": "stream",
     "text": [
      "D:\\dataset\\B78_reader1_output\\WL\\P177.mhd 68\n",
      "D:\\dataset\\B78_reader1_output\\WL\\P178.mhd 79\n",
      "D:\\dataset\\B78_reader1_output\\WL\\P179.mhd 63\n",
      "D:\\dataset\\B78_reader1_output\\WZ\\P002.mhd 99\n"
     ]
    },
    {
     "name": "stderr",
     "output_type": "stream",
     "text": [
      "  5%|████                                                                              | 9/180 [00:00<00:08, 19.52it/s]"
     ]
    },
    {
     "name": "stdout",
     "output_type": "stream",
     "text": [
      "D:\\dataset\\B78_reader1_output\\WZ\\P007.mhd 74\n"
     ]
    },
    {
     "name": "stderr",
     "output_type": "stream",
     "text": [
      " 57%|█████████████████████████████████████████████▊                                  | 103/180 [00:04<00:02, 28.89it/s]"
     ]
    },
    {
     "name": "stdout",
     "output_type": "stream",
     "text": [
      "D:\\dataset\\B78_reader1_output\\WZ\\P099.mhd 75\n"
     ]
    },
    {
     "name": "stderr",
     "output_type": "stream",
     "text": [
      " 66%|████████████████████████████████████████████████████▉                           | 119/180 [00:05<00:01, 34.75it/s]"
     ]
    },
    {
     "name": "stdout",
     "output_type": "stream",
     "text": [
      "D:\\dataset\\B78_reader1_output\\WZ\\P112.mhd 51\n",
      "D:\\dataset\\B78_reader1_output\\WZ\\P112.mhd 55\n",
      "D:\\dataset\\B78_reader1_output\\WZ\\P115.mhd 87\n"
     ]
    },
    {
     "name": "stderr",
     "output_type": "stream",
     "text": [
      "100%|████████████████████████████████████████████████████████████████████████████████| 180/180 [00:07<00:00, 25.58it/s]\n",
      "  1%|▉                                                                                 | 2/180 [00:00<00:08, 19.97it/s]"
     ]
    },
    {
     "name": "stdout",
     "output_type": "stream",
     "text": [
      "D:\\dataset\\B78_reader1_output\\WZ\\P178.mhd 74\n",
      "D:\\dataset\\B78_reader1_output\\WZ\\P179.mhd 93\n"
     ]
    },
    {
     "name": "stderr",
     "output_type": "stream",
     "text": [
      "  6%|████▌                                                                            | 10/180 [00:00<00:08, 19.58it/s]"
     ]
    },
    {
     "name": "stdout",
     "output_type": "stream",
     "text": [
      "D:\\dataset\\B78_reader2_output\\KQQ\\P007.mhd 98\n"
     ]
    },
    {
     "name": "stderr",
     "output_type": "stream",
     "text": [
      " 60%|████████████████████████████████████████████████                                | 108/180 [00:05<00:02, 31.98it/s]"
     ]
    },
    {
     "name": "stdout",
     "output_type": "stream",
     "text": [
      "D:\\dataset\\B78_reader2_output\\KQQ\\P102.mhd 86\n",
      "D:\\dataset\\B78_reader2_output\\KQQ\\P103.mhd 77\n"
     ]
    },
    {
     "name": "stderr",
     "output_type": "stream",
     "text": [
      " 64%|███████████████████████████████████████████████████▌                            | 116/180 [00:05<00:01, 34.68it/s]"
     ]
    },
    {
     "name": "stdout",
     "output_type": "stream",
     "text": [
      "D:\\dataset\\B78_reader2_output\\KQQ\\P111.mhd 84\n"
     ]
    },
    {
     "name": "stderr",
     "output_type": "stream",
     "text": [
      "100%|████████████████████████████████████████████████████████████████████████████████| 180/180 [00:07<00:00, 25.61it/s]\n",
      "  3%|██▎                                                                               | 5/180 [00:00<00:08, 21.29it/s]"
     ]
    },
    {
     "name": "stdout",
     "output_type": "stream",
     "text": [
      "D:\\dataset\\B78_reader2_output\\LF\\P001.mhd 75\n"
     ]
    },
    {
     "name": "stderr",
     "output_type": "stream",
     "text": [
      "  4%|███▋                                                                              | 8/180 [00:00<00:08, 20.75it/s]"
     ]
    },
    {
     "name": "stdout",
     "output_type": "stream",
     "text": [
      "D:\\dataset\\B78_reader2_output\\LF\\P007.mhd 85\n"
     ]
    },
    {
     "name": "stderr",
     "output_type": "stream",
     "text": [
      " 45%|████████████████████████████████████▍                                            | 81/180 [00:03<00:04, 20.60it/s]"
     ]
    },
    {
     "name": "stdout",
     "output_type": "stream",
     "text": [
      "D:\\dataset\\B78_reader2_output\\LF\\P078.mhd 61\n"
     ]
    },
    {
     "name": "stderr",
     "output_type": "stream",
     "text": [
      " 59%|███████████████████████████████████████████████                                 | 106/180 [00:04<00:02, 32.09it/s]"
     ]
    },
    {
     "name": "stdout",
     "output_type": "stream",
     "text": [
      "D:\\dataset\\B78_reader2_output\\LF\\P100.mhd 82\n",
      "D:\\dataset\\B78_reader2_output\\LF\\P102.mhd 86\n",
      "D:\\dataset\\B78_reader2_output\\LF\\P103.mhd 77\n"
     ]
    },
    {
     "name": "stderr",
     "output_type": "stream",
     "text": [
      " 63%|██████████████████████████████████████████████████▋                             | 114/180 [00:05<00:01, 33.42it/s]"
     ]
    },
    {
     "name": "stdout",
     "output_type": "stream",
     "text": [
      "D:\\dataset\\B78_reader2_output\\LF\\P111.mhd 84\n"
     ]
    },
    {
     "name": "stderr",
     "output_type": "stream",
     "text": [
      " 68%|██████████████████████████████████████████████████████▏                         | 122/180 [00:05<00:01, 36.07it/s]"
     ]
    },
    {
     "name": "stdout",
     "output_type": "stream",
     "text": [
      "D:\\dataset\\B78_reader2_output\\LF\\P118.mhd 67\n"
     ]
    },
    {
     "name": "stderr",
     "output_type": "stream",
     "text": [
      " 84%|███████████████████████████████████████████████████████████████████             | 151/180 [00:06<00:00, 34.48it/s]"
     ]
    },
    {
     "name": "stdout",
     "output_type": "stream",
     "text": [
      "D:\\dataset\\B78_reader2_output\\LF\\P146.mhd 53\n",
      "D:\\dataset\\B78_reader2_output\\LF\\P147.mhd 76\n"
     ]
    },
    {
     "name": "stderr",
     "output_type": "stream",
     "text": [
      "100%|████████████████████████████████████████████████████████████████████████████████| 180/180 [00:06<00:00, 26.05it/s]\n",
      "  2%|█▎                                                                                | 3/180 [00:00<00:07, 22.28it/s]"
     ]
    },
    {
     "name": "stdout",
     "output_type": "stream",
     "text": [
      "D:\\dataset\\B78_reader2_output\\LF\\P179.mhd 53\n"
     ]
    },
    {
     "name": "stderr",
     "output_type": "stream",
     "text": [
      " 58%|██████████████████████████████████████████████▋                                 | 105/180 [00:04<00:02, 31.23it/s]"
     ]
    },
    {
     "name": "stdout",
     "output_type": "stream",
     "text": [
      "D:\\dataset\\B78_reader2_output\\WHC\\P102.mhd 86\n",
      "D:\\dataset\\B78_reader2_output\\WHC\\P103.mhd 77\n",
      "D:\\dataset\\B78_reader2_output\\WHC\\P109.mhd 95\n"
     ]
    },
    {
     "name": "stderr",
     "output_type": "stream",
     "text": [
      " 65%|████████████████████████████████████████████████████                            | 117/180 [00:05<00:01, 31.60it/s]"
     ]
    },
    {
     "name": "stdout",
     "output_type": "stream",
     "text": [
      "D:\\dataset\\B78_reader2_output\\WHC\\P111.mhd 84\n"
     ]
    },
    {
     "name": "stderr",
     "output_type": "stream",
     "text": [
      " 76%|████████████████████████████████████████████████████████████▉                   | 137/180 [00:05<00:01, 33.69it/s]"
     ]
    },
    {
     "name": "stdout",
     "output_type": "stream",
     "text": [
      "D:\\dataset\\B78_reader2_output\\WHC\\P132.mhd 93\n"
     ]
    },
    {
     "name": "stderr",
     "output_type": "stream",
     "text": [
      "100%|████████████████████████████████████████████████████████████████████████████████| 180/180 [00:06<00:00, 25.72it/s]\n",
      " 35%|████████████████████████████▎                                                    | 63/180 [00:03<00:05, 20.42it/s]"
     ]
    },
    {
     "name": "stdout",
     "output_type": "stream",
     "text": [
      "D:\\dataset\\B78_reader2_output\\YJY\\P061.mhd 77\n"
     ]
    },
    {
     "name": "stderr",
     "output_type": "stream",
     "text": [
      " 46%|█████████████████████████████████████▎                                           | 83/180 [00:04<00:04, 20.19it/s]"
     ]
    },
    {
     "name": "stdout",
     "output_type": "stream",
     "text": [
      "D:\\dataset\\B78_reader2_output\\YJY\\P082.mhd 97\n"
     ]
    },
    {
     "name": "stderr",
     "output_type": "stream",
     "text": [
      " 53%|███████████████████████████████████████████▏                                     | 96/180 [00:04<00:03, 26.65it/s]"
     ]
    },
    {
     "name": "stdout",
     "output_type": "stream",
     "text": [
      "D:\\dataset\\B78_reader2_output\\YJY\\P093.mhd 86\n",
      "D:\\dataset\\B78_reader2_output\\YJY\\P100.mhd 86\n"
     ]
    },
    {
     "name": "stderr",
     "output_type": "stream",
     "text": [
      " 60%|████████████████████████████████████████████████                                | 108/180 [00:04<00:02, 31.83it/s]"
     ]
    },
    {
     "name": "stdout",
     "output_type": "stream",
     "text": [
      "D:\\dataset\\B78_reader2_output\\YJY\\P102.mhd 86\n",
      "D:\\dataset\\B78_reader2_output\\YJY\\P103.mhd 77\n"
     ]
    },
    {
     "name": "stderr",
     "output_type": "stream",
     "text": [
      " 64%|███████████████████████████████████████████████████▌                            | 116/180 [00:05<00:01, 34.05it/s]"
     ]
    },
    {
     "name": "stdout",
     "output_type": "stream",
     "text": [
      "D:\\dataset\\B78_reader2_output\\YJY\\P111.mhd 84\n"
     ]
    },
    {
     "name": "stderr",
     "output_type": "stream",
     "text": [
      " 73%|██████████████████████████████████████████████████████████▋                     | 132/180 [00:05<00:01, 34.87it/s]"
     ]
    },
    {
     "name": "stdout",
     "output_type": "stream",
     "text": [
      "D:\\dataset\\B78_reader2_output\\YJY\\P129.mhd 84\n",
      "D:\\dataset\\B78_reader2_output\\YJY\\P132.mhd 93\n"
     ]
    },
    {
     "name": "stderr",
     "output_type": "stream",
     "text": [
      " 83%|██████████████████████████████████████████████████████████████████▏             | 149/180 [00:06<00:00, 35.20it/s]"
     ]
    },
    {
     "name": "stdout",
     "output_type": "stream",
     "text": [
      "D:\\dataset\\B78_reader2_output\\YJY\\P143.mhd 53\n"
     ]
    },
    {
     "name": "stderr",
     "output_type": "stream",
     "text": [
      "100%|████████████████████████████████████████████████████████████████████████████████| 180/180 [00:06<00:00, 25.86it/s]\n",
      "  2%|█▎                                                                                | 3/180 [00:00<00:08, 20.13it/s]"
     ]
    },
    {
     "name": "stdout",
     "output_type": "stream",
     "text": [
      "D:\\dataset\\B78_reader2_output\\YJY\\P179.mhd 88\n"
     ]
    },
    {
     "name": "stderr",
     "output_type": "stream",
     "text": [
      " 39%|███████████████████████████████▉                                                 | 71/180 [00:03<00:05, 19.80it/s]"
     ]
    },
    {
     "name": "stdout",
     "output_type": "stream",
     "text": [
      "D:\\dataset\\B78_reader2_output\\ZHY\\P069.mhd 54\n"
     ]
    },
    {
     "name": "stderr",
     "output_type": "stream",
     "text": [
      " 59%|███████████████████████████████████████████████                                 | 106/180 [00:04<00:02, 30.59it/s]"
     ]
    },
    {
     "name": "stdout",
     "output_type": "stream",
     "text": [
      "D:\\dataset\\B78_reader2_output\\ZHY\\P102.mhd 86\n"
     ]
    },
    {
     "name": "stderr",
     "output_type": "stream",
     "text": [
      " 68%|██████████████████████████████████████████████████████▏                         | 122/180 [00:05<00:01, 33.51it/s]"
     ]
    },
    {
     "name": "stdout",
     "output_type": "stream",
     "text": [
      "D:\\dataset\\B78_reader2_output\\ZHY\\P118.mhd 82\n"
     ]
    },
    {
     "name": "stderr",
     "output_type": "stream",
     "text": [
      " 77%|█████████████████████████████████████████████████████████████▎                  | 138/180 [00:05<00:01, 34.66it/s]"
     ]
    },
    {
     "name": "stdout",
     "output_type": "stream",
     "text": [
      "D:\\dataset\\B78_reader2_output\\ZHY\\P132.mhd 93\n"
     ]
    },
    {
     "name": "stderr",
     "output_type": "stream",
     "text": [
      "100%|████████████████████████████████████████████████████████████████████████████████| 180/180 [00:07<00:00, 25.45it/s]\n",
      "  0%|                                                                                          | 0/180 [00:00<?, ?it/s]"
     ]
    },
    {
     "name": "stdout",
     "output_type": "stream",
     "text": [
      "D:\\dataset\\B78_reader2_output\\ZHY\\P177.mhd 95\n"
     ]
    },
    {
     "name": "stderr",
     "output_type": "stream",
     "text": [
      " 59%|███████████████████████████████████████████████▌                                | 107/180 [00:05<00:02, 30.57it/s]"
     ]
    },
    {
     "name": "stdout",
     "output_type": "stream",
     "text": [
      "D:\\dataset\\B78_reader2_output\\WL\\P102.mhd 86\n",
      "D:\\dataset\\B78_reader2_output\\WL\\P103.mhd 77\n"
     ]
    },
    {
     "name": "stderr",
     "output_type": "stream",
     "text": [
      " 64%|███████████████████████████████████████████████████                             | 115/180 [00:05<00:01, 32.76it/s]"
     ]
    },
    {
     "name": "stdout",
     "output_type": "stream",
     "text": [
      "D:\\dataset\\B78_reader2_output\\WL\\P111.mhd 84\n"
     ]
    },
    {
     "name": "stderr",
     "output_type": "stream",
     "text": [
      " 76%|████████████████████████████████████████████████████████████▍                   | 136/180 [00:05<00:01, 33.95it/s]"
     ]
    },
    {
     "name": "stdout",
     "output_type": "stream",
     "text": [
      "D:\\dataset\\B78_reader2_output\\WL\\P132.mhd 93\n"
     ]
    },
    {
     "name": "stderr",
     "output_type": "stream",
     "text": [
      "100%|████████████████████████████████████████████████████████████████████████████████| 180/180 [00:07<00:00, 25.24it/s]\n",
      "  1%|▉                                                                                 | 2/180 [00:00<00:09, 19.61it/s]"
     ]
    },
    {
     "name": "stdout",
     "output_type": "stream",
     "text": [
      "D:\\dataset\\B78_reader2_output\\WL\\P179.mhd 83\n",
      "D:\\dataset\\B78_reader2_output\\WL\\P180.mhd 91\n"
     ]
    },
    {
     "name": "stderr",
     "output_type": "stream",
     "text": [
      " 16%|█████████████                                                                    | 29/180 [00:01<00:07, 20.95it/s]"
     ]
    },
    {
     "name": "stdout",
     "output_type": "stream",
     "text": [
      "D:\\dataset\\B78_reader2_output\\WZ\\P026.mhd 85\n"
     ]
    },
    {
     "name": "stderr",
     "output_type": "stream",
     "text": [
      " 59%|███████████████████████████████████████████████▌                                | 107/180 [00:04<00:02, 31.23it/s]"
     ]
    },
    {
     "name": "stdout",
     "output_type": "stream",
     "text": [
      "D:\\dataset\\B78_reader2_output\\WZ\\P102.mhd 86\n",
      "D:\\dataset\\B78_reader2_output\\WZ\\P103.mhd 77\n"
     ]
    },
    {
     "name": "stderr",
     "output_type": "stream",
     "text": [
      " 64%|███████████████████████████████████████████████████                             | 115/180 [00:05<00:01, 32.93it/s]"
     ]
    },
    {
     "name": "stdout",
     "output_type": "stream",
     "text": [
      "D:\\dataset\\B78_reader2_output\\WZ\\P111.mhd 84\n"
     ]
    },
    {
     "name": "stderr",
     "output_type": "stream",
     "text": [
      "100%|████████████████████████████████████████████████████████████████████████████████| 180/180 [00:06<00:00, 25.73it/s]\n"
     ]
    }
   ],
   "source": [
    "lesion_info = dict()\n",
    "cols = ['Round','Reader','PID', 'Lesion_Idx', 'Phys_Z', 'Phys_Y', 'Phys_X', 'Score']\n",
    "for col in cols:\n",
    "    lesion_info.setdefault(col, [])\n",
    "for roundx in [1,2]:\n",
    "    input_root = rf'D:\\dataset\\B78_reader{roundx}_output'\n",
    "    for Reader in reader_name:\n",
    "        reader_folder = os.path.join(input_root, Reader)\n",
    "        for case in tqdm(case_list):\n",
    "            case_mask = os.path.join(reader_folder, case+'.mhd')\n",
    "            case_lesion = get_lesion_info(case_mask)\n",
    "            lesion_index = 0\n",
    "            \n",
    "            if case_lesion:\n",
    "                for lesion in case_lesion:\n",
    "                    lesion_index += 1\n",
    "                    lesion_info['Round'].append(roundx)\n",
    "                    lesion_info['Reader'].append(Reader)\n",
    "                    lesion_info['PID'].append(case)\n",
    "                    lesion_info['Lesion_Idx'].append(lesion_index)\n",
    "                    lesion_info['Phys_Z'].append(lesion[0][0])\n",
    "                    lesion_info['Phys_Y'].append(lesion[0][1])\n",
    "                    lesion_info['Phys_X'].append(lesion[0][2])\n",
    "                    lesion_info['Score'].append(lesion[1])\n",
    "            else:\n",
    "                lesion_info['Round'].append(roundx)\n",
    "                lesion_info['Reader'].append(Reader)\n",
    "                lesion_info['PID'].append(case)\n",
    "                for col in ['Lesion_Idx','Phys_Z', 'Phys_Y', 'Phys_X', 'Score']:\n",
    "                    lesion_info[col].append('')\n",
    "    \n",
    "                       "
   ]
  },
  {
   "cell_type": "code",
   "execution_count": 25,
   "id": "7cc53797-3373-43c5-a472-c90985d5b6a4",
   "metadata": {},
   "outputs": [],
   "source": [
    "lesion_df = pd.DataFrame(lesion_info)\n",
    "lesion_df.to_excel('pirads_reader.xlsx', index=False)"
   ]
  },
  {
   "cell_type": "code",
   "execution_count": 9,
   "id": "0044431b-d113-4ddd-a6eb-c19551021e13",
   "metadata": {},
   "outputs": [],
   "source": [
    "test_file = r'D:\\dataset\\B78_reader1_output\\KQQ\\P003.mhd'\n",
    "test_image = sitk.ReadImage(test_file)\n",
    "test_array = sitk.GetArrayFromImage(test_image)"
   ]
  },
  {
   "cell_type": "code",
   "execution_count": 15,
   "id": "605d88fa-338e-41c5-91a4-458ca2f67080",
   "metadata": {},
   "outputs": [],
   "source": [
    "labels = label(test_array, connectivity=3)\n",
    "regions = regionprops(labels)"
   ]
  },
  {
   "cell_type": "code",
   "execution_count": 17,
   "id": "dc3a6712-a845-4ca4-8fa0-1d33aa87d44d",
   "metadata": {},
   "outputs": [
    {
     "name": "stdout",
     "output_type": "stream",
     "text": [
      "13331\n"
     ]
    }
   ],
   "source": [
    "for region in regions:\n",
    "    if region.area < 30:\n",
    "        continue\n",
    "    print(region.area)"
   ]
  },
  {
   "cell_type": "code",
   "execution_count": null,
   "id": "79e00194-6a8d-4ce0-bced-323e0f3cfcba",
   "metadata": {},
   "outputs": [],
   "source": []
  }
 ],
 "metadata": {
  "kernelspec": {
   "display_name": "Python 3",
   "language": "python",
   "name": "python3"
  },
  "language_info": {
   "codemirror_mode": {
    "name": "ipython",
    "version": 3
   },
   "file_extension": ".py",
   "mimetype": "text/x-python",
   "name": "python",
   "nbconvert_exporter": "python",
   "pygments_lexer": "ipython3",
   "version": "3.8.8"
  }
 },
 "nbformat": 4,
 "nbformat_minor": 5
}
