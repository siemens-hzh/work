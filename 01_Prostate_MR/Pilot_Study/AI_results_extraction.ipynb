{
 "cells": [
  {
   "cell_type": "code",
   "execution_count": 2,
   "id": "309e839c-4275-4b21-8513-622ceb2e4417",
   "metadata": {},
   "outputs": [],
   "source": [
    "import os\n",
    "import SimpleITK as sitk\n",
    "import pandas as pd"
   ]
  },
  {
   "cell_type": "code",
   "execution_count": 8,
   "id": "93a87a24-4d7b-4078-8649-a4f382a848dc",
   "metadata": {},
   "outputs": [],
   "source": [
    "ai_root = r'D:\\dataset\\Nantong_new_out'\n",
    "ai_results = r'D:\\dataset\\Nantong_Prostate\\nantong_perf_case.xlsx'"
   ]
  },
  {
   "cell_type": "code",
   "execution_count": 9,
   "id": "b8addbb3-6ea3-42b1-a994-6c7fab9337a2",
   "metadata": {},
   "outputs": [],
   "source": [
    "ai_results_df = pd.read_excel(ai_results)"
   ]
  },
  {
   "cell_type": "code",
   "execution_count": 13,
   "id": "e3ea8100-0283-42ba-8d4e-667d0656f233",
   "metadata": {},
   "outputs": [],
   "source": [
    "for index, row in ai_results_df.iterrows():\n",
    "    pid = row.PID\n",
    "    if row.new_LoS <60:\n",
    "        ai_results_df.iloc[index].new_pirads = 1\n",
    "    else:\n",
    "        case_folder = os.path.join(ai_root, pid)\n",
    "        for root, _, files in os.walks(case_folder):\n",
    "            for file in flies:\n",
    "                if file == 'LesionFindings.txt':\n",
    "                    lesion_file = os.path.join(root, file)\n",
    "                    with open(lesion_file, 'r') as f:\n",
    "                        file_content = f.raedlines()\n",
    "                        \n",
    "        "
   ]
  },
  {
   "cell_type": "code",
   "execution_count": 14,
   "id": "e9f917da-ffda-4d32-8808-b2a883d711e4",
   "metadata": {},
   "outputs": [
    {
     "data": {
      "text/html": [
       "<div>\n",
       "<style scoped>\n",
       "    .dataframe tbody tr th:only-of-type {\n",
       "        vertical-align: middle;\n",
       "    }\n",
       "\n",
       "    .dataframe tbody tr th {\n",
       "        vertical-align: top;\n",
       "    }\n",
       "\n",
       "    .dataframe thead th {\n",
       "        text-align: right;\n",
       "    }\n",
       "</style>\n",
       "<table border=\"1\" class=\"dataframe\">\n",
       "  <thead>\n",
       "    <tr style=\"text-align: right;\">\n",
       "      <th></th>\n",
       "      <th>PID</th>\n",
       "      <th>ISUP</th>\n",
       "      <th>old_LoS</th>\n",
       "      <th>new_LoS</th>\n",
       "      <th>new_pirads</th>\n",
       "    </tr>\n",
       "  </thead>\n",
       "  <tbody>\n",
       "    <tr>\n",
       "      <th>0</th>\n",
       "      <td>P2001</td>\n",
       "      <td>0</td>\n",
       "      <td>28</td>\n",
       "      <td>1</td>\n",
       "      <td>1.0</td>\n",
       "    </tr>\n",
       "    <tr>\n",
       "      <th>1</th>\n",
       "      <td>P2002</td>\n",
       "      <td>3</td>\n",
       "      <td>94</td>\n",
       "      <td>99</td>\n",
       "      <td>NaN</td>\n",
       "    </tr>\n",
       "    <tr>\n",
       "      <th>2</th>\n",
       "      <td>P2003</td>\n",
       "      <td>3</td>\n",
       "      <td>99</td>\n",
       "      <td>99</td>\n",
       "      <td>NaN</td>\n",
       "    </tr>\n",
       "    <tr>\n",
       "      <th>3</th>\n",
       "      <td>P2004</td>\n",
       "      <td>0</td>\n",
       "      <td>53</td>\n",
       "      <td>52</td>\n",
       "      <td>1.0</td>\n",
       "    </tr>\n",
       "    <tr>\n",
       "      <th>4</th>\n",
       "      <td>P2005</td>\n",
       "      <td>3</td>\n",
       "      <td>86</td>\n",
       "      <td>100</td>\n",
       "      <td>NaN</td>\n",
       "    </tr>\n",
       "    <tr>\n",
       "      <th>...</th>\n",
       "      <td>...</td>\n",
       "      <td>...</td>\n",
       "      <td>...</td>\n",
       "      <td>...</td>\n",
       "      <td>...</td>\n",
       "    </tr>\n",
       "    <tr>\n",
       "      <th>179</th>\n",
       "      <td>P2198</td>\n",
       "      <td>0</td>\n",
       "      <td>44</td>\n",
       "      <td>68</td>\n",
       "      <td>NaN</td>\n",
       "    </tr>\n",
       "    <tr>\n",
       "      <th>180</th>\n",
       "      <td>P2199</td>\n",
       "      <td>0</td>\n",
       "      <td>35</td>\n",
       "      <td>55</td>\n",
       "      <td>1.0</td>\n",
       "    </tr>\n",
       "    <tr>\n",
       "      <th>181</th>\n",
       "      <td>P2200</td>\n",
       "      <td>4</td>\n",
       "      <td>87</td>\n",
       "      <td>92</td>\n",
       "      <td>NaN</td>\n",
       "    </tr>\n",
       "    <tr>\n",
       "      <th>182</th>\n",
       "      <td>P2201</td>\n",
       "      <td>3</td>\n",
       "      <td>97</td>\n",
       "      <td>100</td>\n",
       "      <td>NaN</td>\n",
       "    </tr>\n",
       "    <tr>\n",
       "      <th>183</th>\n",
       "      <td>P2202</td>\n",
       "      <td>0</td>\n",
       "      <td>99</td>\n",
       "      <td>100</td>\n",
       "      <td>NaN</td>\n",
       "    </tr>\n",
       "  </tbody>\n",
       "</table>\n",
       "<p>184 rows × 5 columns</p>\n",
       "</div>"
      ],
      "text/plain": [
       "       PID  ISUP  old_LoS  new_LoS  new_pirads\n",
       "0    P2001     0       28        1         1.0\n",
       "1    P2002     3       94       99         NaN\n",
       "2    P2003     3       99       99         NaN\n",
       "3    P2004     0       53       52         1.0\n",
       "4    P2005     3       86      100         NaN\n",
       "..     ...   ...      ...      ...         ...\n",
       "179  P2198     0       44       68         NaN\n",
       "180  P2199     0       35       55         1.0\n",
       "181  P2200     4       87       92         NaN\n",
       "182  P2201     3       97      100         NaN\n",
       "183  P2202     0       99      100         NaN\n",
       "\n",
       "[184 rows x 5 columns]"
      ]
     },
     "execution_count": 14,
     "metadata": {},
     "output_type": "execute_result"
    }
   ],
   "source": [
    "ai_results_df"
   ]
  },
  {
   "cell_type": "code",
   "execution_count": 15,
   "id": "80da0bd8-2060-42f7-960a-b1ab7c7ca7d4",
   "metadata": {},
   "outputs": [],
   "source": [
    "test = r'D:\\dataset\\Nantong_new_out\\P2002\\1.2.86.76547135.7.1.2.68.50.2645607346.3620.1646976462.14018\\LesionFindings.txt'"
   ]
  },
  {
   "cell_type": "code",
   "execution_count": 25,
   "id": "63be74d0-ba83-4ac9-b81d-8069a8a542fa",
   "metadata": {},
   "outputs": [],
   "source": [
    "with open(test, 'r') as f:\n",
    "    test_content = f.readlines()"
   ]
  },
  {
   "cell_type": "code",
   "execution_count": 26,
   "id": "8c62458c-0a7b-4827-a1ac-d9d1f8e58047",
   "metadata": {},
   "outputs": [
    {
     "data": {
      "text/plain": [
       "['Lesion #1\\n',\n",
       " 'location (pix) = 137 177 9\\n',\n",
       " 'location (mm) = -8.86918 53.2745 -12.5108\\n',\n",
       " 'sectional measurementPt1(mm) = -15.1146 50.8466 -13.1531\\n',\n",
       " 'sectional measurementPt2(mm) = -3.87287 55.0997 -12.0403\\n',\n",
       " 'sectional diameter   = 12.0708(mm)\\n',\n",
       " 'largest measurementPt1(mm) = -15.1146 50.8466 -13.1531\\n',\n",
       " 'largest measurementPt2(mm) = -3.87287 55.0997 -12.0403\\n',\n",
       " 'largest diameter   = 12.0708(mm)\\n',\n",
       " 'PiradsComb = 4\\n',\n",
       " 'LoS = 99\\n',\n",
       " 'medianADC = 1119\\n',\n",
       " 'tenPercentileADC = 815\\n',\n",
       " 'anatomy    = POSTERIOR\\n',\n",
       " 'laterality = RIGHT\\n',\n",
       " 'region     = APEX\\n',\n",
       " 'zone       = PERIPHERAL_POSTERIOR_LATERAL\\n']"
      ]
     },
     "execution_count": 26,
     "metadata": {},
     "output_type": "execute_result"
    }
   ],
   "source": [
    "test_content"
   ]
  },
  {
   "cell_type": "code",
   "execution_count": null,
   "id": "49ef7adf-9b83-4846-99e4-81f2e81c95ef",
   "metadata": {},
   "outputs": [],
   "source": []
  }
 ],
 "metadata": {
  "kernelspec": {
   "display_name": "Python 3",
   "language": "python",
   "name": "python3"
  },
  "language_info": {
   "codemirror_mode": {
    "name": "ipython",
    "version": 3
   },
   "file_extension": ".py",
   "mimetype": "text/x-python",
   "name": "python",
   "nbconvert_exporter": "python",
   "pygments_lexer": "ipython3",
   "version": "3.8.8"
  }
 },
 "nbformat": 4,
 "nbformat_minor": 5
}
