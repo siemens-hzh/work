{
 "cells": [
  {
   "cell_type": "markdown",
   "metadata": {},
   "source": [
    "## Case info extraction"
   ]
  },
  {
   "cell_type": "code",
   "execution_count": 18,
   "metadata": {},
   "outputs": [
    {
     "name": "stderr",
     "output_type": "stream",
     "text": [
      "100%|██████████| 7/7 [00:00<00:00, 6508.56it/s]\n"
     ]
    }
   ],
   "source": [
    "import os\n",
    "import pydicom\n",
    "import shutil\n",
    "from tqdm import tqdm\n",
    "\n",
    "input_roots = [r'H:\\202211', r'H:\\202212', r'H:\\Knee_MRI_For_Label', \n",
    "               r'H:\\XGJ_batch_6', r'I:\\GE', r'I:\\GEPACS', r'I:\\影像下载']\n",
    "\n",
    "output_root = r'G:\\MR_Knee'\n",
    "unique_case_list = []\n",
    "case_info = dict()\n",
    "cols = ['pid', 'name','gender','age', 'study_date','study_time','study_desc', 'modality','manufacturer','model','strength','location']\n",
    "for col in cols:\n",
    "    case_info.setdefault(col, [])\n",
    "\n",
    "\n",
    "number = 0\n",
    "for input_root in tqdm(input_roots):\n",
    "\n",
    "    for root, folders, files in os.walk(input_root):\n",
    "        for file in files:\n",
    "            try:\n",
    "                ds = pydicom.dcmread(os.path.join(root, file))\n",
    "            except Exception as e:\n",
    "                continue\n",
    "            try:\n",
    "                pid = str(ds.PatientID)\n",
    "                study_date = str(ds.StudyDate)\n",
    "                study_time = str(ds.StudyTime)\n",
    "            except Exception as e:\n",
    "                continue\n",
    "            try:\n",
    "                name = str(ds.PatientName)\n",
    "            except Exception as e:\n",
    "                name = 'NA'\n",
    "            uid = name + '_' + study_date + study_time\n",
    "\n",
    "            try:\n",
    "                age = str(ds.PatientAge)\n",
    "            except Exception as e:\n",
    "                age = 'NA'\n",
    "            try:\n",
    "                gender = str(ds.PatientSex)\n",
    "            except Exception as e:\n",
    "                gender = 'NA'\n",
    "            try:\n",
    "                study_desc = str(ds.StudyDescription)\n",
    "            except Exception as e:\n",
    "                study_desc = 'NA'\n",
    "            try:\n",
    "                modality = str(ds.Modalilty)\n",
    "                if not modality == 'MR':\n",
    "                    continue\n",
    "            except Exception as e:\n",
    "                modality = 'NA'\n",
    "            try:\n",
    "                manufacturer = str(ds.Manufacturer)\n",
    "            except Exception as e:\n",
    "                manufacturer = 'NA'\n",
    "            try:\n",
    "                model = str(ds.ManufactuerModelName)\n",
    "            except Exception as e:\n",
    "                model = 'NA'\n",
    "            try:\n",
    "                strength = str(ds.MagneticFieldStrength)\n",
    "            except Exception as e:\n",
    "                strength = 'NA'\n",
    "            if uid not in unique_case_list:\n",
    "                unique_case_list.append(uid)\n",
    "                location = root\n",
    "                for col in cols:\n",
    "                    case_info[col].append(eval(col))\n",
    "                number += 1\n",
    "                if number % 50 == 0:\n",
    "                    print(number)\n",
    "            else:\n",
    "                break\n",
    "\n",
    "                    "
   ]
  },
  {
   "cell_type": "code",
   "execution_count": 19,
   "metadata": {},
   "outputs": [],
   "source": [
    "import pandas as pd\n",
    "\n",
    "df_result = pd.DataFrame(case_info)\n",
    "df_result.to_excel('knee_dicom_info2.xlsx', index=False)"
   ]
  },
  {
   "cell_type": "code",
   "execution_count": null,
   "metadata": {},
   "outputs": [
    {
     "ename": "SyntaxError",
     "evalue": "invalid syntax (3788261737.py, line 1)",
     "output_type": "error",
     "traceback": [
      "\u001b[1;36m  Cell \u001b[1;32mIn[7], line 1\u001b[1;36m\u001b[0m\n\u001b[1;33m    input_roots = [r'H:\\01', r'H:\\02', r'H:\\03', r'H:\\04', r'H:\\05', r'H:\\06', r'H:\\0529', r'H:\\2022', r'H:\\202206', 'H:\\202207', r'H:\\202208', r'H:\\202209', r'H:\\202210', r'H:\\202211', r'H:\\202212', r'H:\\Knee_MRI_For_Label', r'H:\\XGJ_batch_6', r'I:\\GE', r'I:\\GEPACS', 'r'I:\\影像下载']\u001b[0m\n\u001b[1;37m                                                                                                                                                                                                                                                                                ^\u001b[0m\n\u001b[1;31mSyntaxError\u001b[0m\u001b[1;31m:\u001b[0m invalid syntax\n"
     ]
    }
   ],
   "source": [
    "input_roots = [r'H:\\01', r'H:\\02', r'H:\\03', r'H:\\04', r'H:\\05', r'H:\\06', r'H:\\0529', r'H:\\2022', r'H:\\202206', 'H:\\202207', r'H:\\202208', r'H:\\202209', r'H:\\202210', r'H:\\202211', r'H:\\202212', r'H:\\Knee_MRI_For_Label', r'H:\\XGJ_batch_6', r'I:\\GE', r'I:\\GEPACS', 'r'I:\\影像下载']\n"
   ]
  },
  {
   "cell_type": "code",
   "execution_count": null,
   "metadata": {},
   "outputs": [],
   "source": [
    "r'H:\\01', r'H:\\02', r'H:\\03', r'H:\\04', r'H:\\05', r'H:\\06', r'H:\\0529', r'H:\\2022', r'H:\\202206', 'H:\\202207', \n",
    "               r'H:\\202208', r'H:\\202209', r'H:\\202210',"
   ]
  },
  {
   "cell_type": "markdown",
   "metadata": {},
   "source": [
    "## case info matching"
   ]
  },
  {
   "cell_type": "code",
   "execution_count": 59,
   "metadata": {},
   "outputs": [
    {
     "name": "stdout",
     "output_type": "stream",
     "text": [
      "        pid          name gender   age study_date     study_time  \\\n",
      "0  10415085  YAO YUN LONG      M  060Y   20230112         185401   \n",
      "1  10446934     ZHANG QUN      F  055Y   20230119  162303.988000   \n",
      "\n",
      "                    study_desc modality        manufacturer model strength  \\\n",
      "0   MR Left Knee Joint Routine      NaN  GE MEDICAL SYSTEMS   NaN        3   \n",
      "1  MR Right Knee Joint Routine      NaN             SIEMENS   NaN        3   \n",
      "\n",
      "                                            location findings impression  \n",
      "0  H:\\01\\10415085\\5795093\\1.2.840.113619.2.353.28...      NaN        NaN  \n",
      "1  H:\\01\\10446934\\1.2.840.113619.186.240311752081...      NaN        NaN  \n"
     ]
    }
   ],
   "source": [
    "import os\n",
    "import pandas as pd\n",
    "import numpy as np\n",
    "from tqdm import tqdm\n",
    "\n",
    "\n",
    "patient_info = r'C:\\Users\\z004b0je\\OneDrive - Siemens Healthineers\\Projects\\03_Research Platform\\04_Knee_MR\\knee_patient_info.xlsx'\n",
    "dicom_info = r'C:\\Users\\z004b0je\\OneDrive - Siemens Healthineers\\Projects\\03_Research Platform\\04_Knee_MR\\knee_dicom_info.xlsx'\n",
    "\n",
    "df_1 = pd.read_excel(patient_info, dtype=str)\n",
    "df_2 = pd.read_excel(dicom_info, dtype=str)\n",
    "\n",
    "print(df_2.head(2))\n",
    "\n"
   ]
  },
  {
   "cell_type": "code",
   "execution_count": 63,
   "metadata": {},
   "outputs": [
    {
     "name": "stderr",
     "output_type": "stream",
     "text": [
      "  0%|          | 0/12706 [00:00<?, ?it/s]"
     ]
    },
    {
     "name": "stderr",
     "output_type": "stream",
     "text": [
      "100%|██████████| 12706/12706 [03:19<00:00, 63.60it/s]\n"
     ]
    }
   ],
   "source": [
    "\n",
    "for i in tqdm(range(len(df_1))):\n",
    "    pid = df_1.iloc[i]['放射科号']\n",
    "    study_date = df_1.iloc[i]['检查日期'].replace('-','')\n",
    "    findings = df_1.iloc[i]['放射表现']\n",
    "    impression = df_1.iloc[i]['放射诊断']\n",
    "    df_2.loc[(df_2['pid'] == pid) & (df_2['study_date'] == study_date),'findings'] = findings\n",
    "    df_2.loc[(df_2['pid'] == pid) & (df_2['study_date'] == study_date),'impression'] = impression\n"
   ]
  },
  {
   "cell_type": "code",
   "execution_count": 64,
   "metadata": {},
   "outputs": [],
   "source": [
    "df_2.to_excel(r'C:\\Users\\z004b0je\\OneDrive - Siemens Healthineers\\Projects\\03_Research Platform\\04_Knee_MR\\july.xlsx', index=False)"
   ]
  },
  {
   "cell_type": "markdown",
   "metadata": {},
   "source": [
    "## remove duplicate cases"
   ]
  },
  {
   "cell_type": "code",
   "execution_count": 72,
   "metadata": {},
   "outputs": [],
   "source": [
    "input_file = r'C:\\Users\\z004b0je\\OneDrive - Siemens Healthineers\\Projects\\03_Research Platform\\04_Knee_MR\\july.xlsx'\n",
    "\n",
    "delete_index = []\n",
    "unique_case = []\n",
    "\n",
    "df = pd.read_excel(input_file)\n",
    "for index, row in df.iterrows():\n",
    "    pid = str(row.pid)\n",
    "    study_date = str(row.study_date)\n",
    "    study_time = str(row.study_time)\n",
    "    id = pid + '_' + study_date+'_'+study_time\n",
    "    if id not in unique_case:\n",
    "        unique_case.append(id)\n",
    "    else:\n",
    "        delete_index.append(index)\n"
   ]
  },
  {
   "cell_type": "code",
   "execution_count": 73,
   "metadata": {},
   "outputs": [
    {
     "name": "stdout",
     "output_type": "stream",
     "text": [
      "3697\n"
     ]
    }
   ],
   "source": [
    "print(len(delete_index))"
   ]
  },
  {
   "cell_type": "code",
   "execution_count": 74,
   "metadata": {},
   "outputs": [],
   "source": [
    "df2 = df.drop(delete_index)"
   ]
  },
  {
   "cell_type": "code",
   "execution_count": 75,
   "metadata": {},
   "outputs": [],
   "source": [
    "df2.to_excel(r'C:\\Users\\z004b0je\\OneDrive - Siemens Healthineers\\Projects\\03_Research Platform\\04_Knee_MR\\july2.xlsx', index=False)"
   ]
  },
  {
   "cell_type": "markdown",
   "metadata": {},
   "source": [
    "## cartilage extractoin"
   ]
  },
  {
   "cell_type": "code",
   "execution_count": 81,
   "metadata": {},
   "outputs": [],
   "source": [
    "df = pd.read_excel(r'C:\\Users\\z004b0je\\OneDrive - Siemens Healthineers\\Projects\\03_Research Platform\\04_Knee_MR\\july2.xlsx')"
   ]
  },
  {
   "cell_type": "code",
   "execution_count": 87,
   "metadata": {},
   "outputs": [],
   "source": [
    "cartilage = ['水肿', '软骨','囊变', '凹陷','骨赘']\n",
    "result = []\n",
    "\n",
    "for index, row in df.iterrows():\n",
    "    impression = str(row.impression)\n",
    "    flag = False\n",
    "    for word in cartilage:\n",
    "        if word in impression:\n",
    "            #df.iloc[index,'cartilage'] = 1\n",
    "            result.append(1)\n",
    "            flag = True\n",
    "            break\n",
    "    if not flag:\n",
    "        result.append(0)\n",
    "\n",
    "df['cartilage'] = result\n",
    "\n"
   ]
  },
  {
   "cell_type": "code",
   "execution_count": 88,
   "metadata": {},
   "outputs": [],
   "source": [
    "df.to_excel(r'C:\\Users\\z004b0je\\OneDrive - Siemens Healthineers\\Projects\\03_Research Platform\\04_Knee_MR\\july3.xlsx', index=False)"
   ]
  },
  {
   "cell_type": "code",
   "execution_count": 96,
   "metadata": {},
   "outputs": [],
   "source": [
    "import os\n",
    "import pandas as pd\n",
    "\n",
    "input_root = r'D:\\1st'\n",
    "cols = ['pid','category','vendor','study_date','series_number','series_desc' ]\n",
    "case_info = dict()\n",
    "for col in cols:\n",
    "    case_info.setdefault(col, [])\n",
    "\n",
    "catagory_list = os.listdir(input_root)\n",
    "for category in catagory_list:\n",
    "    vendors = os.listdir(os.path.join(input_root, category))\n",
    "    for vendor in vendors:\n",
    "        for folder in os.listdir(os.path.join(input_root, category, vendor)):\n",
    "            pid, study_date = folder.split('_')\n",
    "            series_desc = os.listdir(os.path.join(input_root, category, vendor, folder))\n",
    "            series_desc = ['_'.join(x.split('_')[:-1]) for x in series_desc]\n",
    "            series_desc = [x for x in series_desc if 'loc' not in x.lower()]\n",
    "            series_desc = [x for x in series_desc if 'scout' not in x.lower()]\n",
    "            series_number = len(series_desc)\n",
    "            for col in cols:\n",
    "                case_info[col].append(eval(col))\n",
    "df = pd.DataFrame(case_info)\n",
    "df.to_excel(r'C:\\Users\\z004b0je\\OneDrive - Siemens Healthineers\\Projects\\03_Research Platform\\04_Knee_MR\\case_series_info.xlsx', index=False)\n"
   ]
  },
  {
   "cell_type": "code",
   "execution_count": 3,
   "metadata": {},
   "outputs": [],
   "source": [
    "import os\n",
    "import pandas as pd\n",
    "import shutil\n",
    "\n",
    "input_root = r'F:\\1st'\n",
    "cols = ['pid','category','vendor','study_date','series_number','series_desc' ]\n",
    "case_info = dict()\n",
    "for col in cols:\n",
    "    case_info.setdefault(col, [])\n",
    "\n",
    "catagory_list = os.listdir(input_root)\n",
    "for category in catagory_list:\n",
    "    vendors = os.listdir(os.path.join(input_root, category))\n",
    "    for vendor in vendors:\n",
    "        for folder in os.listdir(os.path.join(input_root, category, vendor)):\n",
    "            pid, study_date = folder.split('_')\n",
    "            cur_folder = os.path.join(input_root, category, vendor, folder)\n",
    "            for series in os.listdir(cur_folder):\n",
    "                for del_key in ['loc', 'scout','report','asset']:\n",
    "                    if del_key in series.lower():\n",
    "                        shutil.rmtree(os.path.join(cur_folder, series))\n",
    "            series_desc = os.listdir(cur_folder)\n",
    "            series_desc = ['_'.join(x.split('_')[:-1]) for x in series_desc]\n",
    "            #series_desc = [x for x in series_desc if 'loc' not in x.lower()]\n",
    "            #series_desc = [x for x in series_desc if 'scout' not in x.lower()]\n",
    "            series_number = len(series_desc)\n",
    "            for col in cols:\n",
    "                case_info[col].append(eval(col))\n",
    "df = pd.DataFrame(case_info)\n",
    "df.to_excel(r'C:\\Users\\z004b0je\\OneDrive - Siemens Healthineers\\Projects\\03_Research Platform\\04_Knee_MR\\case_series_info_0809.xlsx', index=False)\n",
    "\n",
    "    "
   ]
  },
  {
   "cell_type": "markdown",
   "metadata": {},
   "source": []
  }
 ],
 "metadata": {
  "kernelspec": {
   "display_name": "work",
   "language": "python",
   "name": "python3"
  },
  "language_info": {
   "codemirror_mode": {
    "name": "ipython",
    "version": 3
   },
   "file_extension": ".py",
   "mimetype": "text/x-python",
   "name": "python",
   "nbconvert_exporter": "python",
   "pygments_lexer": "ipython3",
   "version": "3.9.18"
  }
 },
 "nbformat": 4,
 "nbformat_minor": 2
}
