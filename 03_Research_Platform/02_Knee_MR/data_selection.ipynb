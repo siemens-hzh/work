{
 "cells": [
  {
   "cell_type": "markdown",
   "metadata": {},
   "source": [
    "## Case info extraction"
   ]
  },
  {
   "cell_type": "code",
   "execution_count": 13,
   "metadata": {},
   "outputs": [
    {
     "name": "stderr",
     "output_type": "stream",
     "text": [
      "  0%|          | 0/7 [00:00<?, ?it/s]"
     ]
    },
    {
     "name": "stdout",
     "output_type": "stream",
     "text": [
      "50\n",
      "100\n",
      "150\n",
      "200\n",
      "250\n",
      "300\n",
      "350\n",
      "400\n",
      "450\n",
      "500\n",
      "550\n"
     ]
    }
   ],
   "source": [
    "import os\n",
    "import pydicom\n",
    "import shutil\n",
    "from tqdm import tqdm\n",
    "\n",
    "input_roots = [r'H:\\202211', r'H:\\202212', r'H:\\Knee_MRI_For_Label', \n",
    "               r'H:\\XGJ_batch_6', r'I:\\GE', r'I:\\GEPACS', r'I:\\影像下载']\n",
    "\n",
    "output_root = r'G:\\MR_Knee'\n",
    "unique_case_list = []\n",
    "case_info = dict()\n",
    "cols = ['pid', 'name','gender','age', 'study_date','study_time','study_desc', 'modality','manufacturer','model','strength','location']\n",
    "for col in cols:\n",
    "    case_info.setdefault(col, [])\n",
    "\n",
    "\n",
    "number = 0\n",
    "for input_root in tqdm(input_roots):\n",
    "\n",
    "    for root, folders, files in os.walk(input_root):\n",
    "        for file in files:\n",
    "            try:\n",
    "                ds = pydicom.dcmread(os.path.join(root, file))\n",
    "            except Exception as e:\n",
    "                continue\n",
    "            try:\n",
    "                pid = str(ds.PatientID)\n",
    "                study_date = str(ds.StudyDate)\n",
    "                study_time = str(ds.StudyTime)\n",
    "            except Exception as e:\n",
    "                continue\n",
    "            try:\n",
    "                name = str(ds.PatientName)\n",
    "            except Exception as e:\n",
    "                name = 'NA'\n",
    "            uid = name + '_' + study_date + study_time\n",
    "\n",
    "            try:\n",
    "                age = str(ds.PatientAge)\n",
    "            except Exception as e:\n",
    "                age = 'NA'\n",
    "            try:\n",
    "                gender = str(ds.PatientSex)\n",
    "            except Exception as e:\n",
    "                gender = 'NA'\n",
    "            try:\n",
    "                study_desc = str(ds.StudyDescription)\n",
    "            except Exception as e:\n",
    "                study_desc = 'NA'\n",
    "            try:\n",
    "                modality = str(ds.Modalilty)\n",
    "                if not modality == 'MR':\n",
    "                    continue\n",
    "            except Exception as e:\n",
    "                modality = 'NA'\n",
    "            try:\n",
    "                manufacturer = str(ds.Manufacturer)\n",
    "            except Exception as e:\n",
    "                manufacturer = 'NA'\n",
    "            try:\n",
    "                model = str(ds.ManufactuerModelName)\n",
    "            except Exception as e:\n",
    "                model = 'NA'\n",
    "            try:\n",
    "                strength = str(ds.MagneticFieldStrength)\n",
    "            except Exception as e:\n",
    "                strength = 'NA'\n",
    "            if uid not in unique_case_list:\n",
    "                unique_case_list.append(uid)\n",
    "                location = root\n",
    "                for col in cols:\n",
    "                    case_info[col].append(eval(col))\n",
    "                number += 1\n",
    "                if number % 50 == 0:\n",
    "                    print(number)\n",
    "            else:\n",
    "                break\n",
    "\n",
    "                    "
   ]
  },
  {
   "cell_type": "code",
   "execution_count": null,
   "metadata": {},
   "outputs": [],
   "source": [
    "import pandas as pd\n",
    "\n",
    "df_result = pd.DataFrame(case_info)\n",
    "df_result.to_excel('knee_dicom_info2.xlsx', index=False)"
   ]
  },
  {
   "cell_type": "code",
   "execution_count": null,
   "metadata": {},
   "outputs": [],
   "source": [
    "input_roots = [r'H:\\01', r'H:\\02', r'H:\\03', r'H:\\04', r'H:\\05', r'H:\\06', r'H:\\0529', r'H:\\2022', r'H:\\202206', 'H:\\202207', r'H:\\202208', r'H:\\202209', r'H:\\202210', r'H:\\202211', r'H:\\202212', r'H:\\Knee_MRI_For_Label', r'H:\\XGJ_batch_6', r'I:\\GE', r'I:\\GEPACS', 'r'I:\\影像下载']\n"
   ]
  },
  {
   "cell_type": "code",
   "execution_count": null,
   "metadata": {},
   "outputs": [],
   "source": [
    "r'H:\\01', r'H:\\02', r'H:\\03', r'H:\\04', r'H:\\05', r'H:\\06', r'H:\\0529', r'H:\\2022', r'H:\\202206', 'H:\\202207', \n",
    "               r'H:\\202208', r'H:\\202209', r'H:\\202210',"
   ]
  },
  {
   "cell_type": "markdown",
   "metadata": {},
   "source": [
    "## case info matching"
   ]
  },
  {
   "cell_type": "code",
   "execution_count": null,
   "metadata": {},
   "outputs": [
    {
     "name": "stdout",
     "output_type": "stream",
     "text": [
      "Empty DataFrame\n",
      "Columns: []\n",
      "Index: []\n",
      "        PID   Patient_Name Gender   Age  Study_Date   Study_Description  \\\n",
      "0  10114471   YAN HUI JUAN      F  061Y    20071015     MR Head Routine   \n",
      "1  10154477  ZHAO HUA QING      F  042Y    20080128  MR C-Spine Routine   \n",
      "\n",
      "         Manufacturer          Model  Strength             Address  findings  \\\n",
      "0  GE MEDICAL SYSTEMS  GENESIS_SIGNA    2000.0  G:\\GEPACS\\10114471       NaN   \n",
      "1  GE MEDICAL SYSTEMS   SIGNA EXCITE       1.5  G:\\GEPACS\\10154477       NaN   \n",
      "\n",
      "   impression  \n",
      "0         NaN  \n",
      "1         NaN  \n",
      "1\n"
     ]
    }
   ],
   "source": [
    "import os\n",
    "import pandas as pd\n",
    "\n",
    "\n",
    "patient_info = r'C:\\Users\\hzh\\Downloads\\knee_cases_info\\knee_patient_info.xlsx'\n",
    "dicom_info = r'G:\\knee_all.xlsx'\n",
    "\n",
    "df_1 = pd.read_excel(patient_info)\n",
    "df_2 = pd.read_excel(dicom_info)\n",
    "print(df_1.head(2))\n",
    "print(df_2.head(2))\n",
    "print(1)\n",
    "\n",
    "for index_2,row_2 in df_2.iterrows():\n",
    "    pid_2 = str(row_2.PID)\n",
    "    study_date_2 = str(row_2.Study_Date)\n",
    "    for index_1,row_1 in df_1.iterrows():\n",
    "        pid_1 = str(row_1.放射科号)\n",
    "        study_date_1 = row_1.检查日期.remove('-')\n",
    "        if pid_2 == pid_1 and study_date_2 == study_date_1:\n",
    "            findings = row_1.放射表现\n",
    "            impression = row_1.放射诊断\n",
    "            df_2.iloc[index_2]['findings'] = findings\n",
    "            df_2.iloc[index_2]['impression'] = impression\n"
   ]
  },
  {
   "cell_type": "code",
   "execution_count": null,
   "metadata": {},
   "outputs": [
    {
     "data": {
      "text/html": [
       "<div>\n",
       "<style scoped>\n",
       "    .dataframe tbody tr th:only-of-type {\n",
       "        vertical-align: middle;\n",
       "    }\n",
       "\n",
       "    .dataframe tbody tr th {\n",
       "        vertical-align: top;\n",
       "    }\n",
       "\n",
       "    .dataframe thead th {\n",
       "        text-align: right;\n",
       "    }\n",
       "</style>\n",
       "<table border=\"1\" class=\"dataframe\">\n",
       "  <thead>\n",
       "    <tr style=\"text-align: right;\">\n",
       "      <th></th>\n",
       "      <th>PID</th>\n",
       "      <th>Patient_Name</th>\n",
       "      <th>Gender</th>\n",
       "      <th>Age</th>\n",
       "      <th>Study_Date</th>\n",
       "      <th>Study_Description</th>\n",
       "      <th>Manufacturer</th>\n",
       "      <th>Model</th>\n",
       "      <th>Strength</th>\n",
       "      <th>Address</th>\n",
       "      <th>findings</th>\n",
       "      <th>impression</th>\n",
       "    </tr>\n",
       "  </thead>\n",
       "  <tbody>\n",
       "    <tr>\n",
       "      <th>0</th>\n",
       "      <td>10114471</td>\n",
       "      <td>YAN HUI JUAN</td>\n",
       "      <td>F</td>\n",
       "      <td>061Y</td>\n",
       "      <td>20071015</td>\n",
       "      <td>MR Head Routine</td>\n",
       "      <td>GE MEDICAL SYSTEMS</td>\n",
       "      <td>GENESIS_SIGNA</td>\n",
       "      <td>2000.0</td>\n",
       "      <td>G:\\GEPACS\\10114471</td>\n",
       "      <td>NaN</td>\n",
       "      <td>NaN</td>\n",
       "    </tr>\n",
       "    <tr>\n",
       "      <th>1</th>\n",
       "      <td>10154477</td>\n",
       "      <td>ZHAO HUA QING</td>\n",
       "      <td>F</td>\n",
       "      <td>042Y</td>\n",
       "      <td>20080128</td>\n",
       "      <td>MR C-Spine Routine</td>\n",
       "      <td>GE MEDICAL SYSTEMS</td>\n",
       "      <td>SIGNA EXCITE</td>\n",
       "      <td>1.5</td>\n",
       "      <td>G:\\GEPACS\\10154477</td>\n",
       "      <td>NaN</td>\n",
       "      <td>NaN</td>\n",
       "    </tr>\n",
       "  </tbody>\n",
       "</table>\n",
       "</div>"
      ],
      "text/plain": [
       "        PID   Patient_Name Gender   Age  Study_Date   Study_Description  \\\n",
       "0  10114471   YAN HUI JUAN      F  061Y    20071015     MR Head Routine   \n",
       "1  10154477  ZHAO HUA QING      F  042Y    20080128  MR C-Spine Routine   \n",
       "\n",
       "         Manufacturer          Model  Strength             Address  findings  \\\n",
       "0  GE MEDICAL SYSTEMS  GENESIS_SIGNA    2000.0  G:\\GEPACS\\10114471       NaN   \n",
       "1  GE MEDICAL SYSTEMS   SIGNA EXCITE       1.5  G:\\GEPACS\\10154477       NaN   \n",
       "\n",
       "   impression  \n",
       "0         NaN  \n",
       "1         NaN  "
      ]
     },
     "execution_count": 6,
     "metadata": {},
     "output_type": "execute_result"
    }
   ],
   "source": [
    "df_2.head(2)"
   ]
  },
  {
   "cell_type": "code",
   "execution_count": null,
   "metadata": {},
   "outputs": [],
   "source": []
  },
  {
   "cell_type": "markdown",
   "metadata": {},
   "source": []
  }
 ],
 "metadata": {
  "kernelspec": {
   "display_name": "work",
   "language": "python",
   "name": "python3"
  },
  "language_info": {
   "codemirror_mode": {
    "name": "ipython",
    "version": 3
   },
   "file_extension": ".py",
   "mimetype": "text/x-python",
   "name": "python",
   "nbconvert_exporter": "python",
   "pygments_lexer": "ipython3",
   "version": "3.12.2"
  }
 },
 "nbformat": 4,
 "nbformat_minor": 2
}
